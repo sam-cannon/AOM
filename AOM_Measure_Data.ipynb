{
 "cells": [
  {
   "cell_type": "code",
   "execution_count": 291,
   "metadata": {},
   "outputs": [],
   "source": [
    "import os\n",
    "import numpy as np\n",
    "import pandas as pd\n",
    "import matplotlib.pyplot as plt\n",
    "%matplotlib inline\n",
    "import pandas_profiling\n",
    "import seaborn as sns\n",
    "import missingno as msno\n",
    "pd.set_option('display.max_columns', None)\n",
    "\n",
    "import warnings\n",
    "warnings.filterwarnings(\"ignore\", category=DeprecationWarning)"
   ]
  },
  {
   "cell_type": "code",
   "execution_count": 98,
   "metadata": {},
   "outputs": [],
   "source": [
    "os.chdir('C:\\\\Users\\\\Sam Cannon\\\\Desktop\\\\Python\\\\SIOP 2020')"
   ]
  },
  {
   "cell_type": "markdown",
   "metadata": {},
   "source": [
    "__Import the data__"
   ]
  },
  {
   "cell_type": "code",
   "execution_count": 334,
   "metadata": {},
   "outputs": [],
   "source": [
    "data = pd.read_csv('heather_clean_data.csv')"
   ]
  },
  {
   "cell_type": "code",
   "execution_count": 335,
   "metadata": {},
   "outputs": [],
   "source": [
    "#drop the \"unnamed\" columns that appear in the data\n",
    "data.drop(data.columns[data.columns.str.contains('Unnamed') == True], axis = 1, inplace = True)"
   ]
  },
  {
   "cell_type": "markdown",
   "metadata": {},
   "source": [
    "## Reverse Score Turnover Items\n",
    "- I am going to reverse score the turnover items so that they reflect \"intent to stay\" rather than \"intent to leave\""
   ]
  },
  {
   "cell_type": "code",
   "execution_count": 336,
   "metadata": {},
   "outputs": [
    {
     "data": {
      "text/plain": [
       "5.0"
      ]
     },
     "execution_count": 336,
     "metadata": {},
     "output_type": "execute_result"
    }
   ],
   "source": [
    "#the max for the turnover items is 5, so I will be just subtracting the item scores from 5\n",
    "max(data.Turnover_1)"
   ]
  },
  {
   "cell_type": "code",
   "execution_count": 337,
   "metadata": {},
   "outputs": [],
   "source": [
    "#reverse score the columns\n",
    "data.loc[:, 'Turnover_1':'Turnover_3'] = 5 - data.loc[:, 'Turnover_1':'Turnover_3']"
   ]
  },
  {
   "cell_type": "code",
   "execution_count": 338,
   "metadata": {},
   "outputs": [],
   "source": [
    "#map 0 = Male, 1 = Female, 2 = other onto gender\n",
    "gender_mapper = {1:0, 2:1, 3:2}\n",
    "data['Gender'].replace(gender_mapper, inplace = True)"
   ]
  },
  {
   "cell_type": "code",
   "execution_count": 339,
   "metadata": {},
   "outputs": [
    {
     "data": {
      "text/plain": [
       "0.0    168\n",
       "1.0    159\n",
       "2.0    5  \n",
       "Name: Gender, dtype: int64"
      ]
     },
     "execution_count": 339,
     "metadata": {},
     "output_type": "execute_result"
    }
   ],
   "source": [
    "data['Gender'].value_counts()"
   ]
  },
  {
   "cell_type": "code",
   "execution_count": 340,
   "metadata": {},
   "outputs": [],
   "source": [
    "data1 = data.loc[:, 'Learning_1':'Support']\n",
    "data2 = data.loc[:, 'Belong_1':'Turnover_3']\n",
    "data3 = data.loc[:, 'MicroInv_1':'Workplace_5']\n",
    "data4 = data['Gender']\n",
    "df = pd.concat([data1, data2, data3, data4], axis = 1)"
   ]
  },
  {
   "cell_type": "code",
   "execution_count": 341,
   "metadata": {},
   "outputs": [
    {
     "data": {
      "text/html": [
       "<div>\n",
       "<style scoped>\n",
       "    .dataframe tbody tr th:only-of-type {\n",
       "        vertical-align: middle;\n",
       "    }\n",
       "\n",
       "    .dataframe tbody tr th {\n",
       "        vertical-align: top;\n",
       "    }\n",
       "\n",
       "    .dataframe thead th {\n",
       "        text-align: right;\n",
       "    }\n",
       "</style>\n",
       "<table border=\"1\" class=\"dataframe\">\n",
       "  <thead>\n",
       "    <tr style=\"text-align: right;\">\n",
       "      <th></th>\n",
       "      <th>Learning_1</th>\n",
       "      <th>Learning_2</th>\n",
       "      <th>Learning_3</th>\n",
       "      <th>Learning_4</th>\n",
       "      <th>Learning_5</th>\n",
       "      <th>Learning_6</th>\n",
       "      <th>Learning_7</th>\n",
       "      <th>Learning_8</th>\n",
       "      <th>Learn_1</th>\n",
       "      <th>Learn_2</th>\n",
       "      <th>Support</th>\n",
       "      <th>Belong_1</th>\n",
       "      <th>Belong_2</th>\n",
       "      <th>Belong_3</th>\n",
       "      <th>Belong_4</th>\n",
       "      <th>Belong_5</th>\n",
       "      <th>Belong_6</th>\n",
       "      <th>Belong_7</th>\n",
       "      <th>Belong_8</th>\n",
       "      <th>Auth_1</th>\n",
       "      <th>Auth_2</th>\n",
       "      <th>Auth_3</th>\n",
       "      <th>Auth_4</th>\n",
       "      <th>Auth_5</th>\n",
       "      <th>Auth_6</th>\n",
       "      <th>Auth_7</th>\n",
       "      <th>Auth_8</th>\n",
       "      <th>Turnover_1</th>\n",
       "      <th>Turnover_2</th>\n",
       "      <th>Turnover_3</th>\n",
       "      <th>MicroInv_1</th>\n",
       "      <th>MicroInv_2</th>\n",
       "      <th>MicroInv_3</th>\n",
       "      <th>MicroInv_4</th>\n",
       "      <th>MicroInv_5</th>\n",
       "      <th>MicroInv_6</th>\n",
       "      <th>MicroInv_7</th>\n",
       "      <th>MicroInv_8</th>\n",
       "      <th>MicroInv_9</th>\n",
       "      <th>Workplace_1</th>\n",
       "      <th>Workplace_2</th>\n",
       "      <th>Workplace_3</th>\n",
       "      <th>Workplace_4</th>\n",
       "      <th>Workplace_5</th>\n",
       "      <th>Gender</th>\n",
       "    </tr>\n",
       "  </thead>\n",
       "  <tbody>\n",
       "    <tr>\n",
       "      <th>0</th>\n",
       "      <td>2.0</td>\n",
       "      <td>1.0</td>\n",
       "      <td>2.0</td>\n",
       "      <td>2.0</td>\n",
       "      <td>2.0</td>\n",
       "      <td>2.0</td>\n",
       "      <td>2.0</td>\n",
       "      <td>1.0</td>\n",
       "      <td>6.0</td>\n",
       "      <td>6.0</td>\n",
       "      <td>2.0</td>\n",
       "      <td>4.0</td>\n",
       "      <td>5.0</td>\n",
       "      <td>4.0</td>\n",
       "      <td>4.0</td>\n",
       "      <td>4.0</td>\n",
       "      <td>5.0</td>\n",
       "      <td>4.0</td>\n",
       "      <td>4.0</td>\n",
       "      <td>4.0</td>\n",
       "      <td>4.0</td>\n",
       "      <td>4.0</td>\n",
       "      <td>4.0</td>\n",
       "      <td>3.0</td>\n",
       "      <td>3.0</td>\n",
       "      <td>3.0</td>\n",
       "      <td>3.0</td>\n",
       "      <td>4.0</td>\n",
       "      <td>4.0</td>\n",
       "      <td>4.0</td>\n",
       "      <td>1.0</td>\n",
       "      <td>1.0</td>\n",
       "      <td>1.0</td>\n",
       "      <td>1.0</td>\n",
       "      <td>1.0</td>\n",
       "      <td>1.0</td>\n",
       "      <td>1.0</td>\n",
       "      <td>1.0</td>\n",
       "      <td>1.0</td>\n",
       "      <td>1.0</td>\n",
       "      <td>1.0</td>\n",
       "      <td>1.0</td>\n",
       "      <td>1.0</td>\n",
       "      <td>1.0</td>\n",
       "      <td>1.0</td>\n",
       "    </tr>\n",
       "  </tbody>\n",
       "</table>\n",
       "</div>"
      ],
      "text/plain": [
       "   Learning_1  Learning_2  Learning_3  Learning_4  Learning_5  Learning_6  \\\n",
       "0  2.0         1.0         2.0         2.0         2.0         2.0          \n",
       "\n",
       "   Learning_7  Learning_8  Learn_1  Learn_2  Support  Belong_1  Belong_2  \\\n",
       "0  2.0         1.0         6.0      6.0      2.0      4.0       5.0        \n",
       "\n",
       "   Belong_3  Belong_4  Belong_5  Belong_6  Belong_7  Belong_8  Auth_1  Auth_2  \\\n",
       "0  4.0       4.0       4.0       5.0       4.0       4.0       4.0     4.0      \n",
       "\n",
       "   Auth_3  Auth_4  Auth_5  Auth_6  Auth_7  Auth_8  Turnover_1  Turnover_2  \\\n",
       "0  4.0     4.0     3.0     3.0     3.0     3.0     4.0         4.0          \n",
       "\n",
       "   Turnover_3  MicroInv_1  MicroInv_2  MicroInv_3  MicroInv_4  MicroInv_5  \\\n",
       "0  4.0         1.0         1.0         1.0         1.0         1.0          \n",
       "\n",
       "   MicroInv_6  MicroInv_7  MicroInv_8  MicroInv_9  Workplace_1  Workplace_2  \\\n",
       "0  1.0         1.0         1.0         1.0         1.0          1.0           \n",
       "\n",
       "   Workplace_3  Workplace_4  Workplace_5  Gender  \n",
       "0  1.0          1.0          1.0          1.0     "
      ]
     },
     "execution_count": 341,
     "metadata": {},
     "output_type": "execute_result"
    }
   ],
   "source": [
    "df.head(1)"
   ]
  },
  {
   "cell_type": "code",
   "execution_count": 342,
   "metadata": {},
   "outputs": [
    {
     "data": {
      "text/plain": [
       "(391, 45)"
      ]
     },
     "execution_count": 342,
     "metadata": {},
     "output_type": "execute_result"
    }
   ],
   "source": [
    "df.shape"
   ]
  },
  {
   "cell_type": "code",
   "execution_count": 343,
   "metadata": {},
   "outputs": [],
   "source": [
    "# profile = measure_data.profile_report(title='Pandas Profiling Report')\n",
    "# profile.to_file(output_file=\"measure_report.html\")"
   ]
  },
  {
   "cell_type": "markdown",
   "metadata": {},
   "source": [
    "## Dropping Missing Values"
   ]
  },
  {
   "cell_type": "code",
   "execution_count": 344,
   "metadata": {},
   "outputs": [],
   "source": [
    "# Printing the percentage of missing values per column\n",
    "def percent_missing(dataframe):\n",
    "    '''\n",
    "    Prints the percentage of missing values for each column in a dataframe\n",
    "    '''\n",
    "    # Summing the number of missing values per column and then dividing by the total\n",
    "    sumMissing = dataframe.isnull().values.sum(axis=0)\n",
    "    pctMissing = sumMissing / dataframe.shape[0]\n",
    "    \n",
    "    if sumMissing.sum() == 0:\n",
    "        print('No missing values')\n",
    "    else:\n",
    "        # Looping through and printing out each columns missing value percentage\n",
    "        print('Percent Missing Values:', '\\n')\n",
    "        for idx, col in enumerate(dataframe.columns):\n",
    "            if sumMissing[idx] > 0:\n",
    "                print('{0}: {1:.2f}%'.format(col, pctMissing[idx] * 100))"
   ]
  },
  {
   "cell_type": "code",
   "execution_count": 345,
   "metadata": {},
   "outputs": [
    {
     "name": "stdout",
     "output_type": "stream",
     "text": [
      "Percent Missing Values: \n",
      "\n",
      "Learning_1: 15.60%\n",
      "Learning_2: 15.60%\n",
      "Learning_3: 16.11%\n",
      "Learning_4: 15.86%\n",
      "Learning_5: 17.14%\n",
      "Learning_6: 15.60%\n",
      "Learning_7: 15.60%\n",
      "Learning_8: 15.60%\n",
      "Learn_1: 15.60%\n",
      "Learn_2: 15.86%\n",
      "Support: 15.60%\n",
      "Belong_1: 16.11%\n",
      "Belong_2: 16.11%\n",
      "Belong_3: 16.37%\n",
      "Belong_4: 17.14%\n",
      "Belong_5: 16.88%\n",
      "Belong_6: 17.65%\n",
      "Belong_7: 16.62%\n",
      "Belong_8: 16.62%\n",
      "Auth_1: 16.11%\n",
      "Auth_2: 16.37%\n",
      "Auth_3: 16.37%\n",
      "Auth_4: 16.62%\n",
      "Auth_5: 16.62%\n",
      "Auth_6: 16.37%\n",
      "Auth_7: 16.37%\n",
      "Auth_8: 16.11%\n",
      "Turnover_1: 15.35%\n",
      "Turnover_2: 15.60%\n",
      "Turnover_3: 15.60%\n",
      "MicroInv_1: 14.58%\n",
      "MicroInv_2: 14.58%\n",
      "MicroInv_3: 14.83%\n",
      "MicroInv_4: 14.58%\n",
      "MicroInv_5: 14.58%\n",
      "MicroInv_6: 14.58%\n",
      "MicroInv_7: 14.58%\n",
      "MicroInv_8: 14.83%\n",
      "MicroInv_9: 14.58%\n",
      "Workplace_1: 14.32%\n",
      "Workplace_2: 14.32%\n",
      "Workplace_3: 14.58%\n",
      "Workplace_4: 14.58%\n",
      "Workplace_5: 14.32%\n",
      "Gender: 15.09%\n"
     ]
    },
    {
     "data": {
      "text/plain": [
       "(391, 45)"
      ]
     },
     "execution_count": 345,
     "metadata": {},
     "output_type": "execute_result"
    }
   ],
   "source": [
    "percent_missing(df)\n",
    "df.shape"
   ]
  },
  {
   "cell_type": "code",
   "execution_count": 346,
   "metadata": {},
   "outputs": [
    {
     "name": "stdout",
     "output_type": "stream",
     "text": [
      "No missing values\n"
     ]
    },
    {
     "data": {
      "text/plain": [
       "(292, 45)"
      ]
     },
     "execution_count": 346,
     "metadata": {},
     "output_type": "execute_result"
    }
   ],
   "source": [
    "#drop NAs\n",
    "df.dropna(inplace = True)\n",
    "percent_missing(df)\n",
    "df.reset_index(drop = True, inplace = True)\n",
    "df.shape"
   ]
  },
  {
   "cell_type": "code",
   "execution_count": 347,
   "metadata": {},
   "outputs": [
    {
     "data": {
      "text/plain": [
       "(292, 45)"
      ]
     },
     "execution_count": 347,
     "metadata": {},
     "output_type": "execute_result"
    }
   ],
   "source": [
    "df.shape"
   ]
  },
  {
   "cell_type": "markdown",
   "metadata": {},
   "source": [
    "## How many people felt support?\n",
    "- 1 = felt support\n",
    "- 2 = did not"
   ]
  },
  {
   "cell_type": "code",
   "execution_count": 348,
   "metadata": {},
   "outputs": [
    {
     "data": {
      "text/plain": [
       "1.0    211\n",
       "2.0    81 \n",
       "Name: Support, dtype: int64"
      ]
     },
     "execution_count": 348,
     "metadata": {},
     "output_type": "execute_result"
    }
   ],
   "source": [
    "df['Support'].value_counts()"
   ]
  },
  {
   "cell_type": "markdown",
   "metadata": {},
   "source": [
    "## Calculating Mean, Standard Deviation for Each Group"
   ]
  },
  {
   "cell_type": "code",
   "execution_count": 349,
   "metadata": {},
   "outputs": [],
   "source": [
    "#mean, std for learning_1 through Learn_2\n",
    "df['learning_mean'] = df.loc[:, 'Learning_1':'Learn_2'].mean(axis = 1)\n",
    "df['learning_std'] = round(df.loc[:, 'Learning_1':'Learn_2'].std(axis = 1), 3)\n",
    "\n",
    "#mean, std for Turnover_1 through Turnover_3\n",
    "df['turnover_mean'] = df.loc[:, 'Turnover_1':'Turnover_3'].mean(axis = 1)\n",
    "df['turnover_std'] = round(df.loc[:, 'Turnover_1':'Turnover_3'].std(axis = 1), 3)\n",
    "\n",
    "#mean, std for Authenticity and Belonging questions\n",
    "df['inclusion_mean'] = df.loc[:, 'Belong_1':'Auth_8'].mean(axis = 1)\n",
    "df['inclusion_std'] = round(df.loc[:, 'Belong_1':'Auth_8'].std(axis = 1), 3)\n",
    "\n",
    "#get count, std for MicroInc - Workplace \n",
    "df['micro_std'] = round(df.loc[:, 'MicroInv_1':'Workplace_5'].std(axis = 1), 3)\n",
    "#now getting count\n",
    "mapper = {2.0:0.0} #create mapper to replace 2s with 0s\n",
    "df['micro_count'] = df.loc[:, 'MicroInv_1':'Workplace_5'].replace(mapper).sum(axis = 1) #replace values = 2 with 0 so that our count is only for 1s in the rows"
   ]
  },
  {
   "cell_type": "markdown",
   "metadata": {},
   "source": [
    "## Correlation Matrix for Means and Standard Deviations"
   ]
  },
  {
   "cell_type": "code",
   "execution_count": 350,
   "metadata": {},
   "outputs": [
    {
     "data": {
      "image/png": "[encoded data removed]",
      "text/plain": [
       "<Figure size 1080x720 with 2 Axes>"
      ]
     },
     "metadata": {
      "needs_background": "light"
     },
     "output_type": "display_data"
    }
   ],
   "source": [
    "corr_data = df[['learning_mean', 'turnover_mean', 'inclusion_mean', 'micro_count', 'Gender']]\n",
    "\n",
    "#plot the heatmap\n",
    "plt.figure(figsize = (15, 10))\n",
    "sns.heatmap(corr_data.corr(), annot = True)\n",
    "plt.title('Learning, Inclusion, Microagressions, and Turnover(R) Correlations', fontsize = 20)\n",
    "plt.xticks(fontsize=14)\n",
    "plt.yticks(fontsize=14);"
   ]
  },
  {
   "cell_type": "markdown",
   "metadata": {},
   "source": [
    "## Getting Cronbach's Alpha for Learning, Belonging+Authenticity, and Turnover"
   ]
  },
  {
   "cell_type": "code",
   "execution_count": 214,
   "metadata": {},
   "outputs": [],
   "source": [
    "#get chronbachs alpha for subsets of measures\n",
    "def cronbach_alpha(items):\n",
    "    items = pd.DataFrame(items)\n",
    "    items_count = items.shape[1]\n",
    "    variance_sum = float(items.var(axis=0, ddof=1).sum())\n",
    "    total_var = float(items.sum(axis=1).var(ddof=1))\n",
    "    \n",
    "    return (items_count / float(items_count - 1) *\n",
    "            (1 - variance_sum / total_var))"
   ]
  },
  {
   "cell_type": "code",
   "execution_count": 215,
   "metadata": {},
   "outputs": [
    {
     "name": "stdout",
     "output_type": "stream",
     "text": [
      "Cronbach's Alpha for Learning: 0.9183583300530999\n",
      "  \n",
      "Cronbach's Alpha for Turnover: 0.913896190132657\n",
      "   \n",
      "Cronbach's Alpha for Belonging and Authenticity: 0.9756246689250677\n"
     ]
    }
   ],
   "source": [
    "#get alpha for \"learning\" variables\n",
    "learning_alpha = cronbach_alpha(df.loc[:, 'Learning_1':'Learn_2'])\n",
    "print(f\"Cronbach's Alpha for Learning: {learning_alpha}\")\n",
    "\n",
    "print('  ')\n",
    "\n",
    "#get alpha for \"Turnover\"\n",
    "turnover_alpha = cronbach_alpha(df.loc[:, 'Turnover_1':'Turnover_3'])\n",
    "print(f\"Cronbach's Alpha for Turnover: {turnover_alpha}\")\n",
    "\n",
    "print('   ')\n",
    "\n",
    "#get alpha for belonging and authenticity\n",
    "belonging_alpha = cronbach_alpha(df.loc[:, 'Belong_1':'Auth_8'])\n",
    "print(f\"Cronbach's Alpha for Belonging and Authenticity: {belonging_alpha}\")"
   ]
  },
  {
   "cell_type": "markdown",
   "metadata": {},
   "source": [
    "# Begin Factor Analysis"
   ]
  },
  {
   "cell_type": "code",
   "execution_count": 223,
   "metadata": {},
   "outputs": [
    {
     "data": {
      "text/plain": [
       "(3198.205033084083, 0.0)"
      ]
     },
     "execution_count": 223,
     "metadata": {},
     "output_type": "execute_result"
    }
   ],
   "source": [
    "#using bartlett test to confirm that we should use a factor analysis, 0 p value indicates we should\n",
    "from factor_analyzer.factor_analyzer import calculate_bartlett_sphericity\n",
    "features = df.loc[:, 'Learning_1':'Learn_2']\n",
    "\n",
    "chi_square_value,p_value=calculate_bartlett_sphericity(features)\n",
    "chi_square_value, p_value"
   ]
  },
  {
   "cell_type": "code",
   "execution_count": 224,
   "metadata": {},
   "outputs": [
    {
     "data": {
      "text/plain": [
       "0.897048521711588"
      ]
     },
     "execution_count": 224,
     "metadata": {},
     "output_type": "execute_result"
    }
   ],
   "source": [
    "#KMO test, values above 60 are great and indicate that the data is stable enough for a factor analysis\n",
    "from factor_analyzer.factor_analyzer import calculate_kmo\n",
    "kmo_all,kmo_model=calculate_kmo(features)\n",
    "kmo_model"
   ]
  },
  {
   "cell_type": "markdown",
   "metadata": {},
   "source": [
    "## Getting Eigenvalues"
   ]
  },
  {
   "cell_type": "code",
   "execution_count": 230,
   "metadata": {},
   "outputs": [
    {
     "data": {
      "text/html": [
       "<div>\n",
       "<style scoped>\n",
       "    .dataframe tbody tr th:only-of-type {\n",
       "        vertical-align: middle;\n",
       "    }\n",
       "\n",
       "    .dataframe tbody tr th {\n",
       "        vertical-align: top;\n",
       "    }\n",
       "\n",
       "    .dataframe thead th {\n",
       "        text-align: right;\n",
       "    }\n",
       "</style>\n",
       "<table border=\"1\" class=\"dataframe\">\n",
       "  <thead>\n",
       "    <tr style=\"text-align: right;\">\n",
       "      <th></th>\n",
       "      <th>Original_Eigenvalues</th>\n",
       "    </tr>\n",
       "  </thead>\n",
       "  <tbody>\n",
       "    <tr>\n",
       "      <th>0</th>\n",
       "      <td>6.602376</td>\n",
       "    </tr>\n",
       "    <tr>\n",
       "      <th>1</th>\n",
       "      <td>1.715290</td>\n",
       "    </tr>\n",
       "    <tr>\n",
       "      <th>2</th>\n",
       "      <td>0.475337</td>\n",
       "    </tr>\n",
       "    <tr>\n",
       "      <th>3</th>\n",
       "      <td>0.312299</td>\n",
       "    </tr>\n",
       "    <tr>\n",
       "      <th>4</th>\n",
       "      <td>0.215902</td>\n",
       "    </tr>\n",
       "    <tr>\n",
       "      <th>5</th>\n",
       "      <td>0.196922</td>\n",
       "    </tr>\n",
       "    <tr>\n",
       "      <th>6</th>\n",
       "      <td>0.148810</td>\n",
       "    </tr>\n",
       "    <tr>\n",
       "      <th>7</th>\n",
       "      <td>0.120158</td>\n",
       "    </tr>\n",
       "    <tr>\n",
       "      <th>8</th>\n",
       "      <td>0.115667</td>\n",
       "    </tr>\n",
       "    <tr>\n",
       "      <th>9</th>\n",
       "      <td>0.097238</td>\n",
       "    </tr>\n",
       "  </tbody>\n",
       "</table>\n",
       "</div>"
      ],
      "text/plain": [
       "   Original_Eigenvalues\n",
       "0  6.602376            \n",
       "1  1.715290            \n",
       "2  0.475337            \n",
       "3  0.312299            \n",
       "4  0.215902            \n",
       "5  0.196922            \n",
       "6  0.148810            \n",
       "7  0.120158            \n",
       "8  0.115667            \n",
       "9  0.097238            "
      ]
     },
     "execution_count": 230,
     "metadata": {},
     "output_type": "execute_result"
    }
   ],
   "source": [
    "# Create factor analysis object and perform factor analysis\n",
    "fa = FactorAnalyzer()\n",
    "fa.analyze(features, 10, rotation=None)\n",
    "# Check Eigenvalues\n",
    "ev, v = fa.get_eigenvalues()\n",
    "ev"
   ]
  },
  {
   "cell_type": "markdown",
   "metadata": {},
   "source": [
    "## Scree Plot\n",
    "- We can see from the scree plot that there are only two factors who's eigenvalues are above 1, thus 2 factors are explaining most of the variance in the data, so 2 factors makes sense\n",
    "- we could have also just used the eigenvalue table above, but its more fun to see it plotted out"
   ]
  },
  {
   "cell_type": "code",
   "execution_count": 233,
   "metadata": {},
   "outputs": [
    {
     "data": {
      "image/png": "[encoded data removed]",
      "text/plain": [
       "<Figure size 1008x504 with 1 Axes>"
      ]
     },
     "metadata": {
      "needs_background": "light"
     },
     "output_type": "display_data"
    }
   ],
   "source": [
    "# Create scree plot using matplotlib\n",
    "plt.figure(figsize = (14, 7))\n",
    "plt.scatter(range(1,features.shape[1]+1),ev)\n",
    "plt.plot(range(1,features.shape[1]+1),ev)\n",
    "plt.title('Scree Plot', fontsize = 20)\n",
    "plt.xlabel('Factors', fontsize = 15)\n",
    "plt.ylabel('Eigenvalue', fontsize = 15)\n",
    "plt.grid()\n",
    "plt.show()"
   ]
  },
  {
   "cell_type": "markdown",
   "metadata": {},
   "source": [
    "## Factor Analysis with 2 Factors\n",
    "- using Maximum Likelihood and a promax rotation (since factors will be correlated with each other theoretically)"
   ]
  },
  {
   "cell_type": "code",
   "execution_count": 225,
   "metadata": {},
   "outputs": [
    {
     "data": {
      "text/html": [
       "<div>\n",
       "<style scoped>\n",
       "    .dataframe tbody tr th:only-of-type {\n",
       "        vertical-align: middle;\n",
       "    }\n",
       "\n",
       "    .dataframe tbody tr th {\n",
       "        vertical-align: top;\n",
       "    }\n",
       "\n",
       "    .dataframe thead th {\n",
       "        text-align: right;\n",
       "    }\n",
       "</style>\n",
       "<table border=\"1\" class=\"dataframe\">\n",
       "  <thead>\n",
       "    <tr style=\"text-align: right;\">\n",
       "      <th></th>\n",
       "      <th>Factor1</th>\n",
       "      <th>Factor2</th>\n",
       "    </tr>\n",
       "  </thead>\n",
       "  <tbody>\n",
       "    <tr>\n",
       "      <th>Learning_1</th>\n",
       "      <td>0.003322</td>\n",
       "      <td>0.839280</td>\n",
       "    </tr>\n",
       "    <tr>\n",
       "      <th>Learning_2</th>\n",
       "      <td>0.046853</td>\n",
       "      <td>0.878223</td>\n",
       "    </tr>\n",
       "    <tr>\n",
       "      <th>Learning_3</th>\n",
       "      <td>0.027983</td>\n",
       "      <td>0.890850</td>\n",
       "    </tr>\n",
       "    <tr>\n",
       "      <th>Learning_4</th>\n",
       "      <td>0.036455</td>\n",
       "      <td>0.864489</td>\n",
       "    </tr>\n",
       "    <tr>\n",
       "      <th>Learning_5</th>\n",
       "      <td>0.012668</td>\n",
       "      <td>0.861532</td>\n",
       "    </tr>\n",
       "    <tr>\n",
       "      <th>Learning_6</th>\n",
       "      <td>-0.027138</td>\n",
       "      <td>0.914008</td>\n",
       "    </tr>\n",
       "    <tr>\n",
       "      <th>Learning_7</th>\n",
       "      <td>-0.043973</td>\n",
       "      <td>0.910201</td>\n",
       "    </tr>\n",
       "    <tr>\n",
       "      <th>Learning_8</th>\n",
       "      <td>-0.048071</td>\n",
       "      <td>0.878275</td>\n",
       "    </tr>\n",
       "    <tr>\n",
       "      <th>Learn_1</th>\n",
       "      <td>0.998094</td>\n",
       "      <td>-0.002154</td>\n",
       "    </tr>\n",
       "    <tr>\n",
       "      <th>Learn_2</th>\n",
       "      <td>0.887750</td>\n",
       "      <td>-0.000909</td>\n",
       "    </tr>\n",
       "  </tbody>\n",
       "</table>\n",
       "</div>"
      ],
      "text/plain": [
       "             Factor1   Factor2\n",
       "Learning_1  0.003322  0.839280\n",
       "Learning_2  0.046853  0.878223\n",
       "Learning_3  0.027983  0.890850\n",
       "Learning_4  0.036455  0.864489\n",
       "Learning_5  0.012668  0.861532\n",
       "Learning_6 -0.027138  0.914008\n",
       "Learning_7 -0.043973  0.910201\n",
       "Learning_8 -0.048071  0.878275\n",
       "Learn_1     0.998094 -0.002154\n",
       "Learn_2     0.887750 -0.000909"
      ]
     },
     "execution_count": 225,
     "metadata": {},
     "output_type": "execute_result"
    }
   ],
   "source": [
    "from factor_analyzer.factor_analyzer import FactorAnalyzer\n",
    "fa = FactorAnalyzer()\n",
    "fa.analyze(features, 2, method = 'ml', rotation = 'promax')\n",
    "fa.loadings"
   ]
  },
  {
   "cell_type": "code",
   "execution_count": 280,
   "metadata": {},
   "outputs": [],
   "source": [
    "composite_df = df[['turnover_mean', 'inclusion_mean', 'learning_mean', 'micro_count']]"
   ]
  },
  {
   "cell_type": "code",
   "execution_count": 283,
   "metadata": {},
   "outputs": [],
   "source": [
    "composite_df.to_csv('composite_df.csv')"
   ]
  },
  {
   "cell_type": "code",
   "execution_count": 188,
   "metadata": {},
   "outputs": [],
   "source": [
    "features.to_csv('factor_analysis_data.csv')"
   ]
  },
  {
   "cell_type": "code",
   "execution_count": 287,
   "metadata": {},
   "outputs": [
    {
     "data": {
      "text/html": [
       "<div>\n",
       "<style scoped>\n",
       "    .dataframe tbody tr th:only-of-type {\n",
       "        vertical-align: middle;\n",
       "    }\n",
       "\n",
       "    .dataframe tbody tr th {\n",
       "        vertical-align: top;\n",
       "    }\n",
       "\n",
       "    .dataframe thead th {\n",
       "        text-align: right;\n",
       "    }\n",
       "</style>\n",
       "<table border=\"1\" class=\"dataframe\">\n",
       "  <thead>\n",
       "    <tr style=\"text-align: right;\">\n",
       "      <th></th>\n",
       "      <th>turnover_mean</th>\n",
       "      <th>inclusion_mean</th>\n",
       "      <th>learning_mean</th>\n",
       "      <th>micro_count</th>\n",
       "    </tr>\n",
       "  </thead>\n",
       "  <tbody>\n",
       "    <tr>\n",
       "      <th>0</th>\n",
       "      <td>4.0</td>\n",
       "      <td>3.8750</td>\n",
       "      <td>2.6</td>\n",
       "      <td>14.0</td>\n",
       "    </tr>\n",
       "    <tr>\n",
       "      <th>1</th>\n",
       "      <td>0.0</td>\n",
       "      <td>1.8125</td>\n",
       "      <td>2.6</td>\n",
       "      <td>6.0</td>\n",
       "    </tr>\n",
       "    <tr>\n",
       "      <th>2</th>\n",
       "      <td>3.0</td>\n",
       "      <td>4.5000</td>\n",
       "      <td>4.2</td>\n",
       "      <td>14.0</td>\n",
       "    </tr>\n",
       "    <tr>\n",
       "      <th>3</th>\n",
       "      <td>3.0</td>\n",
       "      <td>4.0000</td>\n",
       "      <td>4.0</td>\n",
       "      <td>14.0</td>\n",
       "    </tr>\n",
       "    <tr>\n",
       "      <th>4</th>\n",
       "      <td>3.0</td>\n",
       "      <td>4.5000</td>\n",
       "      <td>3.6</td>\n",
       "      <td>14.0</td>\n",
       "    </tr>\n",
       "  </tbody>\n",
       "</table>\n",
       "</div>"
      ],
      "text/plain": [
       "   turnover_mean  inclusion_mean  learning_mean  micro_count\n",
       "0  4.0            3.8750          2.6            14.0       \n",
       "1  0.0            1.8125          2.6            6.0        \n",
       "2  3.0            4.5000          4.2            14.0       \n",
       "3  3.0            4.0000          4.0            14.0       \n",
       "4  3.0            4.5000          3.6            14.0       "
      ]
     },
     "execution_count": 287,
     "metadata": {},
     "output_type": "execute_result"
    }
   ],
   "source": [
    "composite_df.head()"
   ]
  },
  {
   "cell_type": "markdown",
   "metadata": {},
   "source": [
    "## Run Mediation\n",
    "- using pingouin to conduct mediation analysis\n",
    "- Regressing inclusion on learning for \"a\" path\n",
    "- Regressing turnover on learning + inclusion for \"b\" path\n",
    "    - B weight in the output is \"c\" path\n",
    "- Running a mediation analysis with the IV (learning), Mediator (inclusion), and DV (turnover)"
   ]
  },
  {
   "cell_type": "code",
   "execution_count": 300,
   "metadata": {},
   "outputs": [
    {
     "data": {
      "text/html": [
       "<div>\n",
       "<style scoped>\n",
       "    .dataframe tbody tr th:only-of-type {\n",
       "        vertical-align: middle;\n",
       "    }\n",
       "\n",
       "    .dataframe tbody tr th {\n",
       "        vertical-align: top;\n",
       "    }\n",
       "\n",
       "    .dataframe thead th {\n",
       "        text-align: right;\n",
       "    }\n",
       "</style>\n",
       "<table border=\"1\" class=\"dataframe\">\n",
       "  <thead>\n",
       "    <tr style=\"text-align: right;\">\n",
       "      <th></th>\n",
       "      <th>names</th>\n",
       "      <th>coef</th>\n",
       "      <th>se</th>\n",
       "      <th>T</th>\n",
       "      <th>pval</th>\n",
       "      <th>r2</th>\n",
       "      <th>adj_r2</th>\n",
       "      <th>CI[2.5%]</th>\n",
       "      <th>CI[97.5%]</th>\n",
       "    </tr>\n",
       "  </thead>\n",
       "  <tbody>\n",
       "    <tr>\n",
       "      <th>0</th>\n",
       "      <td>Intercept</td>\n",
       "      <td>2.725723</td>\n",
       "      <td>0.155111</td>\n",
       "      <td>17.572778</td>\n",
       "      <td>1.426815e-47</td>\n",
       "      <td>0.155023</td>\n",
       "      <td>0.152109</td>\n",
       "      <td>2.420438</td>\n",
       "      <td>3.031008</td>\n",
       "    </tr>\n",
       "    <tr>\n",
       "      <th>1</th>\n",
       "      <td>learning_mean</td>\n",
       "      <td>0.370276</td>\n",
       "      <td>0.050763</td>\n",
       "      <td>7.294151</td>\n",
       "      <td>2.883438e-12</td>\n",
       "      <td>0.155023</td>\n",
       "      <td>0.152109</td>\n",
       "      <td>0.270364</td>\n",
       "      <td>0.470187</td>\n",
       "    </tr>\n",
       "  </tbody>\n",
       "</table>\n",
       "</div>"
      ],
      "text/plain": [
       "           names      coef        se          T          pval        r2  \\\n",
       "0  Intercept      2.725723  0.155111  17.572778  1.426815e-47  0.155023   \n",
       "1  learning_mean  0.370276  0.050763  7.294151   2.883438e-12  0.155023   \n",
       "\n",
       "     adj_r2  CI[2.5%]  CI[97.5%]  \n",
       "0  0.152109  2.420438  3.031008   \n",
       "1  0.152109  0.270364  0.470187   "
      ]
     },
     "execution_count": 300,
     "metadata": {},
     "output_type": "execute_result"
    }
   ],
   "source": [
    "import pingouin as pg\n",
    "#Baron and Kenny Method.\n",
    "#First, regress inclusion on learning to obtain a path.\n",
    "pg.linear_regression(composite_df['learning_mean'], composite_df['inclusion_mean'])"
   ]
  },
  {
   "cell_type": "code",
   "execution_count": 295,
   "metadata": {},
   "outputs": [
    {
     "data": {
      "text/html": [
       "<div>\n",
       "<style scoped>\n",
       "    .dataframe tbody tr th:only-of-type {\n",
       "        vertical-align: middle;\n",
       "    }\n",
       "\n",
       "    .dataframe tbody tr th {\n",
       "        vertical-align: top;\n",
       "    }\n",
       "\n",
       "    .dataframe thead th {\n",
       "        text-align: right;\n",
       "    }\n",
       "</style>\n",
       "<table border=\"1\" class=\"dataframe\">\n",
       "  <thead>\n",
       "    <tr style=\"text-align: right;\">\n",
       "      <th></th>\n",
       "      <th>names</th>\n",
       "      <th>coef</th>\n",
       "      <th>se</th>\n",
       "      <th>T</th>\n",
       "      <th>pval</th>\n",
       "      <th>r2</th>\n",
       "      <th>adj_r2</th>\n",
       "      <th>CI[2.5%]</th>\n",
       "      <th>CI[97.5%]</th>\n",
       "    </tr>\n",
       "  </thead>\n",
       "  <tbody>\n",
       "    <tr>\n",
       "      <th>0</th>\n",
       "      <td>Intercept</td>\n",
       "      <td>-1.200325</td>\n",
       "      <td>0.296576</td>\n",
       "      <td>-4.047283</td>\n",
       "      <td>6.657832e-05</td>\n",
       "      <td>0.329997</td>\n",
       "      <td>0.32536</td>\n",
       "      <td>-1.784047</td>\n",
       "      <td>-0.616603</td>\n",
       "    </tr>\n",
       "    <tr>\n",
       "      <th>1</th>\n",
       "      <td>learning_mean</td>\n",
       "      <td>0.030001</td>\n",
       "      <td>0.073482</td>\n",
       "      <td>0.408283</td>\n",
       "      <td>6.833683e-01</td>\n",
       "      <td>0.329997</td>\n",
       "      <td>0.32536</td>\n",
       "      <td>-0.114626</td>\n",
       "      <td>0.174629</td>\n",
       "    </tr>\n",
       "    <tr>\n",
       "      <th>2</th>\n",
       "      <td>inclusion_mean</td>\n",
       "      <td>0.843858</td>\n",
       "      <td>0.078136</td>\n",
       "      <td>10.799830</td>\n",
       "      <td>4.593133e-23</td>\n",
       "      <td>0.329997</td>\n",
       "      <td>0.32536</td>\n",
       "      <td>0.690069</td>\n",
       "      <td>0.997646</td>\n",
       "    </tr>\n",
       "  </tbody>\n",
       "</table>\n",
       "</div>"
      ],
      "text/plain": [
       "            names      coef        se          T          pval        r2  \\\n",
       "0  Intercept      -1.200325  0.296576 -4.047283   6.657832e-05  0.329997   \n",
       "1  learning_mean   0.030001  0.073482  0.408283   6.833683e-01  0.329997   \n",
       "2  inclusion_mean  0.843858  0.078136  10.799830  4.593133e-23  0.329997   \n",
       "\n",
       "    adj_r2  CI[2.5%]  CI[97.5%]  \n",
       "0  0.32536 -1.784047 -0.616603   \n",
       "1  0.32536 -0.114626  0.174629   \n",
       "2  0.32536  0.690069  0.997646   "
      ]
     },
     "execution_count": 295,
     "metadata": {},
     "output_type": "execute_result"
    }
   ],
   "source": [
    "#Next, obtain c path by regressing turnover on learning and inclusion\n",
    "pg.linear_regression(composite_df[['learning_mean', 'inclusion_mean']], composite_df['turnover_mean'])"
   ]
  },
  {
   "cell_type": "markdown",
   "metadata": {},
   "source": [
    "__Indirect effect is significant__"
   ]
  },
  {
   "cell_type": "code",
   "execution_count": 294,
   "metadata": {},
   "outputs": [
    {
     "data": {
      "text/html": [
       "<div>\n",
       "<style scoped>\n",
       "    .dataframe tbody tr th:only-of-type {\n",
       "        vertical-align: middle;\n",
       "    }\n",
       "\n",
       "    .dataframe tbody tr th {\n",
       "        vertical-align: top;\n",
       "    }\n",
       "\n",
       "    .dataframe thead th {\n",
       "        text-align: right;\n",
       "    }\n",
       "</style>\n",
       "<table border=\"1\" class=\"dataframe\">\n",
       "  <thead>\n",
       "    <tr style=\"text-align: right;\">\n",
       "      <th></th>\n",
       "      <th>path</th>\n",
       "      <th>coef</th>\n",
       "      <th>se</th>\n",
       "      <th>pval</th>\n",
       "      <th>CI[2.5%]</th>\n",
       "      <th>CI[97.5%]</th>\n",
       "      <th>sig</th>\n",
       "    </tr>\n",
       "  </thead>\n",
       "  <tbody>\n",
       "    <tr>\n",
       "      <th>0</th>\n",
       "      <td>inclusion_mean ~ X</td>\n",
       "      <td>0.3703</td>\n",
       "      <td>0.0508</td>\n",
       "      <td>2.883438e-12</td>\n",
       "      <td>0.2704</td>\n",
       "      <td>0.4702</td>\n",
       "      <td>Yes</td>\n",
       "    </tr>\n",
       "    <tr>\n",
       "      <th>1</th>\n",
       "      <td>Y ~ inclusion_mean</td>\n",
       "      <td>0.8564</td>\n",
       "      <td>0.0717</td>\n",
       "      <td>5.318869e-27</td>\n",
       "      <td>0.7153</td>\n",
       "      <td>0.9976</td>\n",
       "      <td>Yes</td>\n",
       "    </tr>\n",
       "    <tr>\n",
       "      <th>2</th>\n",
       "      <td>Total</td>\n",
       "      <td>0.3425</td>\n",
       "      <td>0.0799</td>\n",
       "      <td>2.469456e-05</td>\n",
       "      <td>0.1852</td>\n",
       "      <td>0.4997</td>\n",
       "      <td>Yes</td>\n",
       "    </tr>\n",
       "    <tr>\n",
       "      <th>3</th>\n",
       "      <td>Direct</td>\n",
       "      <td>0.0300</td>\n",
       "      <td>0.0735</td>\n",
       "      <td>6.833683e-01</td>\n",
       "      <td>-0.1146</td>\n",
       "      <td>0.1746</td>\n",
       "      <td>No</td>\n",
       "    </tr>\n",
       "    <tr>\n",
       "      <th>4</th>\n",
       "      <td>Indirect</td>\n",
       "      <td>0.3125</td>\n",
       "      <td>0.0492</td>\n",
       "      <td>0.000000e+00</td>\n",
       "      <td>0.2195</td>\n",
       "      <td>0.4128</td>\n",
       "      <td>Yes</td>\n",
       "    </tr>\n",
       "  </tbody>\n",
       "</table>\n",
       "</div>"
      ],
      "text/plain": [
       "                 path    coef      se          pval  CI[2.5%]  CI[97.5%]  sig\n",
       "0  inclusion_mean ~ X  0.3703  0.0508  2.883438e-12  0.2704    0.4702     Yes\n",
       "1  Y ~ inclusion_mean  0.8564  0.0717  5.318869e-27  0.7153    0.9976     Yes\n",
       "2  Total               0.3425  0.0799  2.469456e-05  0.1852    0.4997     Yes\n",
       "3  Direct              0.0300  0.0735  6.833683e-01 -0.1146    0.1746     No \n",
       "4  Indirect            0.3125  0.0492  0.000000e+00  0.2195    0.4128     Yes"
      ]
     },
     "execution_count": 294,
     "metadata": {},
     "output_type": "execute_result"
    }
   ],
   "source": [
    "# https://github.com/raphaelvallat/pingouin\n",
    "# Conduct bootsrapping procedure to determine significance of indirect effect\n",
    "# (apath * bpath).\n",
    "pg.mediation_analysis(data=composite_df, x = 'learning_mean', m = 'inclusion_mean', y = 'turnover_mean', seed=42, n_boot=5000)"
   ]
  }
 ],
 "metadata": {
  "kernelspec": {
   "display_name": "Python 3",
   "language": "python",
   "name": "python3"
  },
  "language_info": {
   "codemirror_mode": {
    "name": "ipython",
    "version": 3
   },
   "file_extension": ".py",
   "mimetype": "text/x-python",
   "name": "python",
   "nbconvert_exporter": "python",
   "pygments_lexer": "ipython3",
   "version": "3.7.3"
  }
 },
 "nbformat": 4,
 "nbformat_minor": 4
}
