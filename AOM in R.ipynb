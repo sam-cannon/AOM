{
 "cells": [
  {
   "cell_type": "code",
   "execution_count": 26,
   "metadata": {},
   "outputs": [],
   "source": [
    "library(tidyverse)\n",
    "library(gtools)\n",
    "library(tibble)\n",
    "library(dplyr)\n",
    "library(psy)\n",
    "library(nFactors)"
   ]
  },
  {
   "cell_type": "markdown",
   "metadata": {},
   "source": [
    "Now I am going to get cronbach's alpha for items"
   ]
  },
  {
   "cell_type": "code",
   "execution_count": 27,
   "metadata": {},
   "outputs": [
    {
     "data": {
      "text/html": [
       "'C:/Users/Sam Cannon/Desktop/Python/SIOP 2020'"
      ],
      "text/latex": [
       "'C:/Users/Sam Cannon/Desktop/Python/SIOP 2020'"
      ],
      "text/markdown": [
       "'C:/Users/Sam Cannon/Desktop/Python/SIOP 2020'"
      ],
      "text/plain": [
       "[1] \"C:/Users/Sam Cannon/Desktop/Python/SIOP 2020\""
      ]
     },
     "metadata": {},
     "output_type": "display_data"
    }
   ],
   "source": [
    "getwd()"
   ]
  },
  {
   "cell_type": "code",
   "execution_count": 28,
   "metadata": {},
   "outputs": [],
   "source": [
    "data_1 <- read.csv(\"factor_analysis_data.csv\", header = T)\n",
    "df <- read.csv(\"composite_df.csv\", header = TRUE)"
   ]
  },
  {
   "cell_type": "markdown",
   "metadata": {},
   "source": [
    "Learning Alpha"
   ]
  },
  {
   "cell_type": "code",
   "execution_count": 30,
   "metadata": {},
   "outputs": [
    {
     "data": {
      "text/html": [
       "<dl>\n",
       "\t<dt>$sample.size</dt>\n",
       "\t\t<dd>295</dd>\n",
       "\t<dt>$number.of.items</dt>\n",
       "\t\t<dd>10</dd>\n",
       "\t<dt>$alpha</dt>\n",
       "\t\t<dd>0.918081343679373</dd>\n",
       "</dl>\n"
      ],
      "text/latex": [
       "\\begin{description}\n",
       "\\item[\\$sample.size] 295\n",
       "\\item[\\$number.of.items] 10\n",
       "\\item[\\$alpha] 0.918081343679373\n",
       "\\end{description}\n"
      ],
      "text/markdown": [
       "$sample.size\n",
       ":   295\n",
       "$number.of.items\n",
       ":   10\n",
       "$alpha\n",
       ":   0.918081343679373\n",
       "\n",
       "\n"
      ],
      "text/plain": [
       "$sample.size\n",
       "[1] 295\n",
       "\n",
       "$number.of.items\n",
       "[1] 10\n",
       "\n",
       "$alpha\n",
       "[1] 0.9180813\n"
      ]
     },
     "metadata": {},
     "output_type": "display_data"
    }
   ],
   "source": [
    "cronbach(data_1[, 2:11])"
   ]
  },
  {
   "cell_type": "markdown",
   "metadata": {},
   "source": [
    "Belonging and Authenticity Alpha"
   ]
  },
  {
   "cell_type": "code",
   "execution_count": 18,
   "metadata": {},
   "outputs": [
    {
     "data": {
      "text/html": [
       "<dl>\n",
       "\t<dt>$sample.size</dt>\n",
       "\t\t<dd>295</dd>\n",
       "\t<dt>$number.of.items</dt>\n",
       "\t\t<dd>16</dd>\n",
       "\t<dt>$alpha</dt>\n",
       "\t\t<dd>0.975860256347315</dd>\n",
       "</dl>\n"
      ],
      "text/latex": [
       "\\begin{description}\n",
       "\\item[\\$sample.size] 295\n",
       "\\item[\\$number.of.items] 16\n",
       "\\item[\\$alpha] 0.975860256347315\n",
       "\\end{description}\n"
      ],
      "text/markdown": [
       "$sample.size\n",
       ":   295\n",
       "$number.of.items\n",
       ":   16\n",
       "$alpha\n",
       ":   0.975860256347315\n",
       "\n",
       "\n"
      ],
      "text/plain": [
       "$sample.size\n",
       "[1] 295\n",
       "\n",
       "$number.of.items\n",
       "[1] 16\n",
       "\n",
       "$alpha\n",
       "[1] 0.9758603\n"
      ]
     },
     "metadata": {},
     "output_type": "display_data"
    }
   ],
   "source": [
    "cronbach(data_1[, 12:27])"
   ]
  },
  {
   "cell_type": "markdown",
   "metadata": {},
   "source": [
    "Turnover Alpha"
   ]
  },
  {
   "cell_type": "code",
   "execution_count": 22,
   "metadata": {},
   "outputs": [
    {
     "data": {
      "text/html": [
       "<dl>\n",
       "\t<dt>$sample.size</dt>\n",
       "\t\t<dd>295</dd>\n",
       "\t<dt>$number.of.items</dt>\n",
       "\t\t<dd>3</dd>\n",
       "\t<dt>$alpha</dt>\n",
       "\t\t<dd>0.911591003460208</dd>\n",
       "</dl>\n"
      ],
      "text/latex": [
       "\\begin{description}\n",
       "\\item[\\$sample.size] 295\n",
       "\\item[\\$number.of.items] 3\n",
       "\\item[\\$alpha] 0.911591003460208\n",
       "\\end{description}\n"
      ],
      "text/markdown": [
       "$sample.size\n",
       ":   295\n",
       "$number.of.items\n",
       ":   3\n",
       "$alpha\n",
       ":   0.911591003460208\n",
       "\n",
       "\n"
      ],
      "text/plain": [
       "$sample.size\n",
       "[1] 295\n",
       "\n",
       "$number.of.items\n",
       "[1] 3\n",
       "\n",
       "$alpha\n",
       "[1] 0.911591\n"
      ]
     },
     "metadata": {},
     "output_type": "display_data"
    }
   ],
   "source": [
    "cronbach(data_1[, 28:30])"
   ]
  },
  {
   "cell_type": "markdown",
   "metadata": {},
   "source": [
    "Factor Analysis with 3 Factors"
   ]
  },
  {
   "cell_type": "markdown",
   "metadata": {},
   "source": [
    "Maximum Likelihood Factor Analysis\n",
    "entering raw data and extracting 3 factors,\n",
    "with varimax rotation"
   ]
  },
  {
   "cell_type": "code",
   "execution_count": 27,
   "metadata": {},
   "outputs": [],
   "source": [
    "data <- data_1[, 2:30]"
   ]
  },
  {
   "cell_type": "code",
   "execution_count": 31,
   "metadata": {},
   "outputs": [
    {
     "data": {
      "text/html": [
       "<table>\n",
       "<thead><tr><th scope=col>X</th><th scope=col>Learning_1</th><th scope=col>Learning_2</th><th scope=col>Learning_3</th><th scope=col>Learning_4</th><th scope=col>Learning_5</th><th scope=col>Learning_6</th><th scope=col>Learning_7</th><th scope=col>Learning_8</th><th scope=col>Learn_1</th><th scope=col>...</th><th scope=col>Auth_2</th><th scope=col>Auth_3</th><th scope=col>Auth_4</th><th scope=col>Auth_5</th><th scope=col>Auth_6</th><th scope=col>Auth_7</th><th scope=col>Auth_8</th><th scope=col>Turnover_1</th><th scope=col>Turnover_2</th><th scope=col>Turnover_3</th></tr></thead>\n",
       "<tbody>\n",
       "\t<tr><td>0  </td><td>2  </td><td>1  </td><td>2  </td><td>2  </td><td>2  </td><td>2  </td><td>2  </td><td>1  </td><td>6  </td><td>...</td><td>4  </td><td>4  </td><td>4  </td><td>3  </td><td>3  </td><td>3  </td><td>3  </td><td>1  </td><td>1  </td><td>1  </td></tr>\n",
       "\t<tr><td>1  </td><td>3  </td><td>2  </td><td>2  </td><td>3  </td><td>3  </td><td>3  </td><td>3  </td><td>3  </td><td>2  </td><td>...</td><td>1  </td><td>1  </td><td>1  </td><td>2  </td><td>2  </td><td>1  </td><td>1  </td><td>5  </td><td>5  </td><td>5  </td></tr>\n",
       "\t<tr><td>2  </td><td>4  </td><td>4  </td><td>4  </td><td>4  </td><td>4  </td><td>4  </td><td>4  </td><td>4  </td><td>5  </td><td>...</td><td>4  </td><td>4  </td><td>4  </td><td>4  </td><td>4  </td><td>4  </td><td>4  </td><td>1  </td><td>3  </td><td>2  </td></tr>\n",
       "\t<tr><td>3  </td><td>4  </td><td>4  </td><td>4  </td><td>4  </td><td>4  </td><td>4  </td><td>4  </td><td>4  </td><td>4  </td><td>...</td><td>4  </td><td>4  </td><td>4  </td><td>4  </td><td>4  </td><td>4  </td><td>4  </td><td>2  </td><td>2  </td><td>2  </td></tr>\n",
       "\t<tr><td>4  </td><td>3  </td><td>3  </td><td>3  </td><td>3  </td><td>3  </td><td>3  </td><td>3  </td><td>3  </td><td>6  </td><td>...</td><td>4  </td><td>4  </td><td>4  </td><td>4  </td><td>4  </td><td>4  </td><td>4  </td><td>2  </td><td>2  </td><td>2  </td></tr>\n",
       "\t<tr><td>5  </td><td>3  </td><td>3  </td><td>3  </td><td>3  </td><td>3  </td><td>3  </td><td>3  </td><td>3  </td><td>6  </td><td>...</td><td>4  </td><td>4  </td><td>4  </td><td>4  </td><td>4  </td><td>4  </td><td>4  </td><td>4  </td><td>4  </td><td>4  </td></tr>\n",
       "</tbody>\n",
       "</table>\n"
      ],
      "text/latex": [
       "\\begin{tabular}{r|llllllllllllllllllllllllllllll}\n",
       " X & Learning\\_1 & Learning\\_2 & Learning\\_3 & Learning\\_4 & Learning\\_5 & Learning\\_6 & Learning\\_7 & Learning\\_8 & Learn\\_1 & ... & Auth\\_2 & Auth\\_3 & Auth\\_4 & Auth\\_5 & Auth\\_6 & Auth\\_7 & Auth\\_8 & Turnover\\_1 & Turnover\\_2 & Turnover\\_3\\\\\n",
       "\\hline\n",
       "\t 0   & 2   & 1   & 2   & 2   & 2   & 2   & 2   & 1   & 6   & ... & 4   & 4   & 4   & 3   & 3   & 3   & 3   & 1   & 1   & 1  \\\\\n",
       "\t 1   & 3   & 2   & 2   & 3   & 3   & 3   & 3   & 3   & 2   & ... & 1   & 1   & 1   & 2   & 2   & 1   & 1   & 5   & 5   & 5  \\\\\n",
       "\t 2   & 4   & 4   & 4   & 4   & 4   & 4   & 4   & 4   & 5   & ... & 4   & 4   & 4   & 4   & 4   & 4   & 4   & 1   & 3   & 2  \\\\\n",
       "\t 3   & 4   & 4   & 4   & 4   & 4   & 4   & 4   & 4   & 4   & ... & 4   & 4   & 4   & 4   & 4   & 4   & 4   & 2   & 2   & 2  \\\\\n",
       "\t 4   & 3   & 3   & 3   & 3   & 3   & 3   & 3   & 3   & 6   & ... & 4   & 4   & 4   & 4   & 4   & 4   & 4   & 2   & 2   & 2  \\\\\n",
       "\t 5   & 3   & 3   & 3   & 3   & 3   & 3   & 3   & 3   & 6   & ... & 4   & 4   & 4   & 4   & 4   & 4   & 4   & 4   & 4   & 4  \\\\\n",
       "\\end{tabular}\n"
      ],
      "text/markdown": [
       "\n",
       "| X | Learning_1 | Learning_2 | Learning_3 | Learning_4 | Learning_5 | Learning_6 | Learning_7 | Learning_8 | Learn_1 | ... | Auth_2 | Auth_3 | Auth_4 | Auth_5 | Auth_6 | Auth_7 | Auth_8 | Turnover_1 | Turnover_2 | Turnover_3 |\n",
       "|---|---|---|---|---|---|---|---|---|---|---|---|---|---|---|---|---|---|---|---|---|\n",
       "| 0   | 2   | 1   | 2   | 2   | 2   | 2   | 2   | 1   | 6   | ... | 4   | 4   | 4   | 3   | 3   | 3   | 3   | 1   | 1   | 1   |\n",
       "| 1   | 3   | 2   | 2   | 3   | 3   | 3   | 3   | 3   | 2   | ... | 1   | 1   | 1   | 2   | 2   | 1   | 1   | 5   | 5   | 5   |\n",
       "| 2   | 4   | 4   | 4   | 4   | 4   | 4   | 4   | 4   | 5   | ... | 4   | 4   | 4   | 4   | 4   | 4   | 4   | 1   | 3   | 2   |\n",
       "| 3   | 4   | 4   | 4   | 4   | 4   | 4   | 4   | 4   | 4   | ... | 4   | 4   | 4   | 4   | 4   | 4   | 4   | 2   | 2   | 2   |\n",
       "| 4   | 3   | 3   | 3   | 3   | 3   | 3   | 3   | 3   | 6   | ... | 4   | 4   | 4   | 4   | 4   | 4   | 4   | 2   | 2   | 2   |\n",
       "| 5   | 3   | 3   | 3   | 3   | 3   | 3   | 3   | 3   | 6   | ... | 4   | 4   | 4   | 4   | 4   | 4   | 4   | 4   | 4   | 4   |\n",
       "\n"
      ],
      "text/plain": [
       "  X Learning_1 Learning_2 Learning_3 Learning_4 Learning_5 Learning_6\n",
       "1 0 2          1          2          2          2          2         \n",
       "2 1 3          2          2          3          3          3         \n",
       "3 2 4          4          4          4          4          4         \n",
       "4 3 4          4          4          4          4          4         \n",
       "5 4 3          3          3          3          3          3         \n",
       "6 5 3          3          3          3          3          3         \n",
       "  Learning_7 Learning_8 Learn_1 ... Auth_2 Auth_3 Auth_4 Auth_5 Auth_6 Auth_7\n",
       "1 2          1          6       ... 4      4      4      3      3      3     \n",
       "2 3          3          2       ... 1      1      1      2      2      1     \n",
       "3 4          4          5       ... 4      4      4      4      4      4     \n",
       "4 4          4          4       ... 4      4      4      4      4      4     \n",
       "5 3          3          6       ... 4      4      4      4      4      4     \n",
       "6 3          3          6       ... 4      4      4      4      4      4     \n",
       "  Auth_8 Turnover_1 Turnover_2 Turnover_3\n",
       "1 3      1          1          1         \n",
       "2 1      5          5          5         \n",
       "3 4      1          3          2         \n",
       "4 4      2          2          2         \n",
       "5 4      2          2          2         \n",
       "6 4      4          4          4         "
      ]
     },
     "metadata": {},
     "output_type": "display_data"
    }
   ],
   "source": [
    "head(data_1)"
   ]
  },
  {
   "cell_type": "code",
   "execution_count": 34,
   "metadata": {},
   "outputs": [],
   "source": [
    "factor_df = data_1[, 1:11]"
   ]
  },
  {
   "cell_type": "markdown",
   "metadata": {},
   "source": [
    "## How many factors should we have?\n",
    "- use a scree plot to determine"
   ]
  },
  {
   "cell_type": "code",
   "execution_count": 38,
   "metadata": {},
   "outputs": [
    {
     "data": {
      "image/png": "[encoded data removed]",
      "text/plain": [
       "Plot with title \"Non Graphical Solutions to Scree Test\""
      ]
     },
     "metadata": {},
     "output_type": "display_data"
    }
   ],
   "source": [
    "ev <- eigen(cor(factor_df)) # get eigenvalues\n",
    "ap <- parallel(subject=nrow(factor_df),var=ncol(factor_df),\n",
    "  rep=100,cent=.05)\n",
    "nS <- nScree(x=ev$values, aparallel=ap$eigen$qevpea)\n",
    "plotnScree(nS)"
   ]
  },
  {
   "cell_type": "markdown",
   "metadata": {},
   "source": [
    "## Use 2 factors, as suggested by the scree plot"
   ]
  },
  {
   "cell_type": "code",
   "execution_count": 37,
   "metadata": {},
   "outputs": [
    {
     "name": "stdout",
     "output_type": "stream",
     "text": [
      "\n",
      "Call:\n",
      "factanal(x = factor_df, factors = 2)\n",
      "\n",
      "Uniquenesses:\n",
      "         X Learning_1 Learning_2 Learning_3 Learning_4 Learning_5 Learning_6 \n",
      "      0.98       0.29       0.20       0.19       0.23       0.26       0.18 \n",
      "Learning_7 Learning_8    Learn_1    Learn_2 \n",
      "      0.19       0.24       0.16       0.06 \n",
      "\n",
      "Loadings:\n",
      "           Factor1 Factor2\n",
      "Learning_1  0.84          \n",
      "Learning_2  0.89          \n",
      "Learning_3  0.90          \n",
      "Learning_4  0.87          \n",
      "Learning_5  0.85          \n",
      "Learning_6  0.91          \n",
      "Learning_7  0.90          \n",
      "Learning_8  0.87          \n",
      "Learn_1             0.89  \n",
      "Learn_2             0.96  \n",
      "X                         \n",
      "\n",
      "               Factor1 Factor2\n",
      "SS loadings       6.22    1.79\n",
      "Proportion Var    0.57    0.16\n",
      "Cumulative Var    0.57    0.73\n",
      "\n",
      "Test of the hypothesis that 2 factors are sufficient.\n",
      "The chi square statistic is 246.41 on 34 degrees of freedom.\n",
      "The p-value is 4.81e-34 \n"
     ]
    },
    {
     "data": {
      "image/png": "[encoded data removed]",
      "text/plain": [
       "plot without title"
      ]
     },
     "metadata": {},
     "output_type": "display_data"
    }
   ],
   "source": [
    "fit <- factanal(factor_df, 2)\n",
    "print(fit, digits=2, cutoff=.3, sort=TRUE)\n",
    "# plot factor 1 by factor 2\n",
    "load <- fit$loadings[,1:2]\n",
    "plot(load,type=\"n\") # set up plot\n",
    "text(load,labels=names(factor_df),cex=.7) # add variable names"
   ]
  },
  {
   "cell_type": "markdown",
   "metadata": {},
   "source": [
    "# Begin Mediation Analysis"
   ]
  },
  {
   "cell_type": "code",
   "execution_count": 7,
   "metadata": {},
   "outputs": [
    {
     "data": {
      "text/html": [
       "<table>\n",
       "<thead><tr><th scope=col>X</th><th scope=col>turnover_mean</th><th scope=col>inclusion_mean</th><th scope=col>learning_mean</th><th scope=col>micro_count</th></tr></thead>\n",
       "<tbody>\n",
       "\t<tr><td>0     </td><td>4     </td><td>3.8750</td><td>2.6   </td><td>14    </td></tr>\n",
       "\t<tr><td>1     </td><td>0     </td><td>1.8125</td><td>2.6   </td><td> 6    </td></tr>\n",
       "\t<tr><td>2     </td><td>3     </td><td>4.5000</td><td>4.2   </td><td>14    </td></tr>\n",
       "\t<tr><td>3     </td><td>3     </td><td>4.0000</td><td>4.0   </td><td>14    </td></tr>\n",
       "\t<tr><td>4     </td><td>3     </td><td>4.5000</td><td>3.6   </td><td>14    </td></tr>\n",
       "\t<tr><td>5     </td><td>1     </td><td>4.0000</td><td>3.6   </td><td>14    </td></tr>\n",
       "</tbody>\n",
       "</table>\n"
      ],
      "text/latex": [
       "\\begin{tabular}{r|lllll}\n",
       " X & turnover\\_mean & inclusion\\_mean & learning\\_mean & micro\\_count\\\\\n",
       "\\hline\n",
       "\t 0      & 4      & 3.8750 & 2.6    & 14    \\\\\n",
       "\t 1      & 0      & 1.8125 & 2.6    &  6    \\\\\n",
       "\t 2      & 3      & 4.5000 & 4.2    & 14    \\\\\n",
       "\t 3      & 3      & 4.0000 & 4.0    & 14    \\\\\n",
       "\t 4      & 3      & 4.5000 & 3.6    & 14    \\\\\n",
       "\t 5      & 1      & 4.0000 & 3.6    & 14    \\\\\n",
       "\\end{tabular}\n"
      ],
      "text/markdown": [
       "\n",
       "| X | turnover_mean | inclusion_mean | learning_mean | micro_count |\n",
       "|---|---|---|---|---|\n",
       "| 0      | 4      | 3.8750 | 2.6    | 14     |\n",
       "| 1      | 0      | 1.8125 | 2.6    |  6     |\n",
       "| 2      | 3      | 4.5000 | 4.2    | 14     |\n",
       "| 3      | 3      | 4.0000 | 4.0    | 14     |\n",
       "| 4      | 3      | 4.5000 | 3.6    | 14     |\n",
       "| 5      | 1      | 4.0000 | 3.6    | 14     |\n",
       "\n"
      ],
      "text/plain": [
       "  X turnover_mean inclusion_mean learning_mean micro_count\n",
       "1 0 4             3.8750         2.6           14         \n",
       "2 1 0             1.8125         2.6            6         \n",
       "3 2 3             4.5000         4.2           14         \n",
       "4 3 3             4.0000         4.0           14         \n",
       "5 4 3             4.5000         3.6           14         \n",
       "6 5 1             4.0000         3.6           14         "
      ]
     },
     "metadata": {},
     "output_type": "display_data"
    }
   ],
   "source": [
    "head(df)"
   ]
  },
  {
   "cell_type": "code",
   "execution_count": 8,
   "metadata": {},
   "outputs": [
    {
     "data": {
      "text/plain": [
       "\n",
       "Call:\n",
       "lm(formula = inclusion_mean ~ learning_mean, data = df)\n",
       "\n",
       "Residuals:\n",
       "    Min      1Q  Median      3Q     Max \n",
       "-2.9799 -0.5294  0.1264  0.5922  1.6795 \n",
       "\n",
       "Coefficients:\n",
       "              Estimate Std. Error t value Pr(>|t|)    \n",
       "(Intercept)    2.72572    0.15511  17.573  < 2e-16 ***\n",
       "learning_mean  0.37028    0.05076   7.294 2.88e-12 ***\n",
       "---\n",
       "Signif. codes:  0 '***' 0.001 '**' 0.01 '*' 0.05 '.' 0.1 ' ' 1\n",
       "\n",
       "Residual standard error: 0.8385 on 290 degrees of freedom\n",
       "Multiple R-squared:  0.155,\tAdjusted R-squared:  0.1521 \n",
       "F-statistic:  53.2 on 1 and 290 DF,  p-value: 2.883e-12\n"
      ]
     },
     "metadata": {},
     "output_type": "display_data"
    }
   ],
   "source": [
    "#Baron and Kenny Method.\n",
    "#First, regress inclusion on learning to obtain a path.\n",
    "apath<-lm(inclusion_mean ~ learning_mean, data = df)\n",
    "summary(apath)"
   ]
  },
  {
   "cell_type": "code",
   "execution_count": 9,
   "metadata": {},
   "outputs": [
    {
     "data": {
      "text/plain": [
       "\n",
       "Call:\n",
       "lm(formula = turnover_mean ~ learning_mean + inclusion_mean, \n",
       "    data = df)\n",
       "\n",
       "Residuals:\n",
       "     Min       1Q   Median       3Q      Max \n",
       "-3.11497 -0.84138  0.09696  0.85503  3.01568 \n",
       "\n",
       "Coefficients:\n",
       "               Estimate Std. Error t value Pr(>|t|)    \n",
       "(Intercept)    -1.20033    0.29658  -4.047 6.66e-05 ***\n",
       "learning_mean   0.03000    0.07348   0.408    0.683    \n",
       "inclusion_mean  0.84386    0.07814  10.800  < 2e-16 ***\n",
       "---\n",
       "Signif. codes:  0 '***' 0.001 '**' 0.01 '*' 0.05 '.' 0.1 ' ' 1\n",
       "\n",
       "Residual standard error: 1.116 on 289 degrees of freedom\n",
       "Multiple R-squared:   0.33,\tAdjusted R-squared:  0.3254 \n",
       "F-statistic: 71.17 on 2 and 289 DF,  p-value: < 2.2e-16\n"
      ]
     },
     "metadata": {},
     "output_type": "display_data"
    }
   ],
   "source": [
    "#Next, obtain c path by regressing turnover on learning and inclusion\n",
    "\n",
    "cpath<-lm(turnover_mean ~ learning_mean + inclusion_mean, data = df)\n",
    "summary(cpath)  "
   ]
  },
  {
   "cell_type": "code",
   "execution_count": 24,
   "metadata": {},
   "outputs": [
    {
     "data": {
      "text/html": [
       "<table>\n",
       "<thead><tr><th></th><th scope=col>Sobel</th><th scope=col>Aroian</th><th scope=col>Goodman</th></tr></thead>\n",
       "<tbody>\n",
       "\t<tr><th scope=row>z.value</th><td>0.4076449</td><td>0.4038788</td><td>0.4115184</td></tr>\n",
       "\t<tr><th scope=row>p.value</th><td>0.6835344</td><td>0.6863019</td><td>0.6806925</td></tr>\n",
       "</tbody>\n",
       "</table>\n"
      ],
      "text/latex": [
       "\\begin{tabular}{r|lll}\n",
       "  & Sobel & Aroian & Goodman\\\\\n",
       "\\hline\n",
       "\tz.value & 0.4076449 & 0.4038788 & 0.4115184\\\\\n",
       "\tp.value & 0.6835344 & 0.6863019 & 0.6806925\\\\\n",
       "\\end{tabular}\n"
      ],
      "text/markdown": [
       "\n",
       "| <!--/--> | Sobel | Aroian | Goodman |\n",
       "|---|---|---|---|\n",
       "| z.value | 0.4076449 | 0.4038788 | 0.4115184 |\n",
       "| p.value | 0.6835344 | 0.6863019 | 0.6806925 |\n",
       "\n"
      ],
      "text/plain": [
       "        Sobel     Aroian    Goodman  \n",
       "z.value 0.4076449 0.4038788 0.4115184\n",
       "p.value 0.6835344 0.6863019 0.6806925"
      ]
     },
     "metadata": {},
     "output_type": "display_data"
    }
   ],
   "source": [
    "#Run Sobel test.\n",
    "library(bda)\n",
    "mediation.test(df$learning_mean, df$inclusion_mean, df$turnover_mean) #Order: med,IV,DV"
   ]
  },
  {
   "cell_type": "code",
   "execution_count": 23,
   "metadata": {},
   "outputs": [
    {
     "name": "stdout",
     "output_type": "stream",
     "text": [
      "[1] \"Bootstrap resampling has begun. This process may take a considerable amount of time if the number of replications is large, which is optimal for the bootstrap procedure.\"\n"
     ]
    },
    {
     "data": {
      "text/html": [
       "<table>\n",
       "<thead><tr><th></th><th scope=col>Estimate</th><th scope=col>CI.Lower_Percentile</th><th scope=col>CI.Upper_Percentile</th></tr></thead>\n",
       "<tbody>\n",
       "\t<tr><th scope=row>Indirect.Effect</th><td> 0.31246007 </td><td>  0.22076708</td><td> 0.41160188 </td></tr>\n",
       "\t<tr><th scope=row>Indirect.Effect.Partially.Standardized</th><td> 0.23002496 </td><td>  0.16418466</td><td> 0.30126525 </td></tr>\n",
       "\t<tr><th scope=row>Index.of.Mediation</th><td> 0.22273171 </td><td>  0.15584904</td><td> 0.29583826 </td></tr>\n",
       "\t<tr><th scope=row>R2_4.5</th><td> 0.05920697 </td><td>  0.01203253</td><td> 0.11799703 </td></tr>\n",
       "\t<tr><th scope=row>R2_4.6</th><td> 0.04457520 </td><td>  0.02276646</td><td> 0.07435383 </td></tr>\n",
       "\t<tr><th scope=row>R2_4.7</th><td> 0.13507754 </td><td>  0.07641664</td><td> 0.19703451 </td></tr>\n",
       "\t<tr><th scope=row>Ratio.of.Indirect.to.Total.Effect</th><td> 0.91239496 </td><td>  0.60286172</td><td> 1.57236127 </td></tr>\n",
       "\t<tr><th scope=row>Ratio.of.Indirect.to.Direct.Effect</th><td>10.41486842 </td><td>-54.42266075</td><td>63.52444324 </td></tr>\n",
       "\t<tr><th scope=row>Success.of.Surrogate.Endpoint</th><td> 0.92488190 </td><td>  0.56165013</td><td> 1.27252642 </td></tr>\n",
       "\t<tr><th scope=row>Residual.Based_Gamma</th><td> 0.07058266 </td><td>  0.03013600</td><td> 0.12093267 </td></tr>\n",
       "\t<tr><th scope=row>Residual.Based.Standardized_gamma</th><td> 0.07490587 </td><td>  0.03500294</td><td> 0.12573409 </td></tr>\n",
       "\t<tr><th scope=row>SOS</th><td> 0.99351510 </td><td>  0.71279910</td><td> 0.99993847 </td></tr>\n",
       "</tbody>\n",
       "</table>\n"
      ],
      "text/latex": [
       "\\begin{tabular}{r|lll}\n",
       "  & Estimate & CI.Lower\\_Percentile & CI.Upper\\_Percentile\\\\\n",
       "\\hline\n",
       "\tIndirect.Effect &  0.31246007  &   0.22076708 &  0.41160188 \\\\\n",
       "\tIndirect.Effect.Partially.Standardized &  0.23002496  &   0.16418466 &  0.30126525 \\\\\n",
       "\tIndex.of.Mediation &  0.22273171  &   0.15584904 &  0.29583826 \\\\\n",
       "\tR2\\_4.5 &  0.05920697  &   0.01203253 &  0.11799703 \\\\\n",
       "\tR2\\_4.6 &  0.04457520  &   0.02276646 &  0.07435383 \\\\\n",
       "\tR2\\_4.7 &  0.13507754  &   0.07641664 &  0.19703451 \\\\\n",
       "\tRatio.of.Indirect.to.Total.Effect &  0.91239496  &   0.60286172 &  1.57236127 \\\\\n",
       "\tRatio.of.Indirect.to.Direct.Effect & 10.41486842  & -54.42266075 & 63.52444324 \\\\\n",
       "\tSuccess.of.Surrogate.Endpoint &  0.92488190  &   0.56165013 &  1.27252642 \\\\\n",
       "\tResidual.Based\\_Gamma &  0.07058266  &   0.03013600 &  0.12093267 \\\\\n",
       "\tResidual.Based.Standardized\\_gamma &  0.07490587  &   0.03500294 &  0.12573409 \\\\\n",
       "\tSOS &  0.99351510  &   0.71279910 &  0.99993847 \\\\\n",
       "\\end{tabular}\n"
      ],
      "text/markdown": [
       "\n",
       "| <!--/--> | Estimate | CI.Lower_Percentile | CI.Upper_Percentile |\n",
       "|---|---|---|---|\n",
       "| Indirect.Effect |  0.31246007  |   0.22076708 |  0.41160188  |\n",
       "| Indirect.Effect.Partially.Standardized |  0.23002496  |   0.16418466 |  0.30126525  |\n",
       "| Index.of.Mediation |  0.22273171  |   0.15584904 |  0.29583826  |\n",
       "| R2_4.5 |  0.05920697  |   0.01203253 |  0.11799703  |\n",
       "| R2_4.6 |  0.04457520  |   0.02276646 |  0.07435383  |\n",
       "| R2_4.7 |  0.13507754  |   0.07641664 |  0.19703451  |\n",
       "| Ratio.of.Indirect.to.Total.Effect |  0.91239496  |   0.60286172 |  1.57236127  |\n",
       "| Ratio.of.Indirect.to.Direct.Effect | 10.41486842  | -54.42266075 | 63.52444324  |\n",
       "| Success.of.Surrogate.Endpoint |  0.92488190  |   0.56165013 |  1.27252642  |\n",
       "| Residual.Based_Gamma |  0.07058266  |   0.03013600 |  0.12093267  |\n",
       "| Residual.Based.Standardized_gamma |  0.07490587  |   0.03500294 |  0.12573409  |\n",
       "| SOS |  0.99351510  |   0.71279910 |  0.99993847  |\n",
       "\n"
      ],
      "text/plain": [
       "                                       Estimate    CI.Lower_Percentile\n",
       "Indirect.Effect                         0.31246007   0.22076708       \n",
       "Indirect.Effect.Partially.Standardized  0.23002496   0.16418466       \n",
       "Index.of.Mediation                      0.22273171   0.15584904       \n",
       "R2_4.5                                  0.05920697   0.01203253       \n",
       "R2_4.6                                  0.04457520   0.02276646       \n",
       "R2_4.7                                  0.13507754   0.07641664       \n",
       "Ratio.of.Indirect.to.Total.Effect       0.91239496   0.60286172       \n",
       "Ratio.of.Indirect.to.Direct.Effect     10.41486842 -54.42266075       \n",
       "Success.of.Surrogate.Endpoint           0.92488190   0.56165013       \n",
       "Residual.Based_Gamma                    0.07058266   0.03013600       \n",
       "Residual.Based.Standardized_gamma       0.07490587   0.03500294       \n",
       "SOS                                     0.99351510   0.71279910       \n",
       "                                       CI.Upper_Percentile\n",
       "Indirect.Effect                         0.41160188        \n",
       "Indirect.Effect.Partially.Standardized  0.30126525        \n",
       "Index.of.Mediation                      0.29583826        \n",
       "R2_4.5                                  0.11799703        \n",
       "R2_4.6                                  0.07435383        \n",
       "R2_4.7                                  0.19703451        \n",
       "Ratio.of.Indirect.to.Total.Effect       1.57236127        \n",
       "Ratio.of.Indirect.to.Direct.Effect     63.52444324        \n",
       "Success.of.Surrogate.Endpoint           1.27252642        \n",
       "Residual.Based_Gamma                    0.12093267        \n",
       "Residual.Based.Standardized_gamma       0.12573409        \n",
       "SOS                                     0.99993847        "
      ]
     },
     "metadata": {},
     "output_type": "display_data"
    }
   ],
   "source": [
    "# Conduct bootsrapping procedure to determine significance of indirect effect\n",
    "# (apath * bpath).\n",
    "\n",
    "library(MBESS)\n",
    "\n",
    "mediation(df$learning_mean, df$inclusion_mean, df$turnover_mean, conf.level = 0.95, bootstrap = T, B = 5000, which.boot=\"Percentile\")"
   ]
  }
 ],
 "metadata": {
  "kernelspec": {
   "display_name": "R",
   "language": "R",
   "name": "ir"
  },
  "language_info": {
   "name": ""
  }
 },
 "nbformat": 4,
 "nbformat_minor": 4
}
