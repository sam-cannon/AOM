{
 "cells": [
  {
   "cell_type": "code",
   "execution_count": 13,
   "metadata": {},
   "outputs": [],
   "source": [
    "library(tidyverse)\n",
    "library(gtools)\n",
    "library(tibble)\n",
    "library(dplyr)\n",
    "library(psy)"
   ]
  },
  {
   "cell_type": "code",
   "execution_count": 12,
   "metadata": {},
   "outputs": [
    {
     "name": "stdout",
     "output_type": "stream",
     "text": [
      "package 'psy' successfully unpacked and MD5 sums checked\n",
      "\n",
      "The downloaded binary packages are in\n",
      "\tC:\\Users\\Sam Cannon\\AppData\\Local\\Temp\\Rtmp65zDqo\\downloaded_packages\n"
     ]
    }
   ],
   "source": [
    "install.packages(\"psy\")"
   ]
  },
  {
   "cell_type": "markdown",
   "metadata": {},
   "source": [
    "Now I am going to get cronbach's alpha for items"
   ]
  },
  {
   "cell_type": "code",
   "execution_count": 3,
   "metadata": {},
   "outputs": [
    {
     "data": {
      "text/html": [
       "'C:/Users/Sam Cannon/Desktop/Python/SIOP 2020'"
      ],
      "text/latex": [
       "'C:/Users/Sam Cannon/Desktop/Python/SIOP 2020'"
      ],
      "text/markdown": [
       "'C:/Users/Sam Cannon/Desktop/Python/SIOP 2020'"
      ],
      "text/plain": [
       "[1] \"C:/Users/Sam Cannon/Desktop/Python/SIOP 2020\""
      ]
     },
     "metadata": {},
     "output_type": "display_data"
    }
   ],
   "source": [
    "getwd()"
   ]
  },
  {
   "cell_type": "code",
   "execution_count": null,
   "metadata": {},
   "outputs": [],
   "source": [
    "setwd()"
   ]
  },
  {
   "cell_type": "code",
   "execution_count": 5,
   "metadata": {},
   "outputs": [],
   "source": [
    "data <- read.csv(\"factor_analysis_data.csv\", header = TRUE)"
   ]
  },
  {
   "cell_type": "markdown",
   "metadata": {},
   "source": [
    "Learning Alpha"
   ]
  },
  {
   "cell_type": "code",
   "execution_count": 15,
   "metadata": {},
   "outputs": [
    {
     "data": {
      "text/html": [
       "<dl>\n",
       "\t<dt>$sample.size</dt>\n",
       "\t\t<dd>295</dd>\n",
       "\t<dt>$number.of.items</dt>\n",
       "\t\t<dd>10</dd>\n",
       "\t<dt>$alpha</dt>\n",
       "\t\t<dd>0.918081343679373</dd>\n",
       "</dl>\n"
      ],
      "text/latex": [
       "\\begin{description}\n",
       "\\item[\\$sample.size] 295\n",
       "\\item[\\$number.of.items] 10\n",
       "\\item[\\$alpha] 0.918081343679373\n",
       "\\end{description}\n"
      ],
      "text/markdown": [
       "$sample.size\n",
       ":   295\n",
       "$number.of.items\n",
       ":   10\n",
       "$alpha\n",
       ":   0.918081343679373\n",
       "\n",
       "\n"
      ],
      "text/plain": [
       "$sample.size\n",
       "[1] 295\n",
       "\n",
       "$number.of.items\n",
       "[1] 10\n",
       "\n",
       "$alpha\n",
       "[1] 0.9180813\n"
      ]
     },
     "metadata": {},
     "output_type": "display_data"
    }
   ],
   "source": [
    "cronbach(data[, 2:11])"
   ]
  },
  {
   "cell_type": "markdown",
   "metadata": {},
   "source": [
    "Belonging and Authenticity Alpha"
   ]
  },
  {
   "cell_type": "code",
   "execution_count": 18,
   "metadata": {},
   "outputs": [
    {
     "data": {
      "text/html": [
       "<dl>\n",
       "\t<dt>$sample.size</dt>\n",
       "\t\t<dd>295</dd>\n",
       "\t<dt>$number.of.items</dt>\n",
       "\t\t<dd>16</dd>\n",
       "\t<dt>$alpha</dt>\n",
       "\t\t<dd>0.975860256347315</dd>\n",
       "</dl>\n"
      ],
      "text/latex": [
       "\\begin{description}\n",
       "\\item[\\$sample.size] 295\n",
       "\\item[\\$number.of.items] 16\n",
       "\\item[\\$alpha] 0.975860256347315\n",
       "\\end{description}\n"
      ],
      "text/markdown": [
       "$sample.size\n",
       ":   295\n",
       "$number.of.items\n",
       ":   16\n",
       "$alpha\n",
       ":   0.975860256347315\n",
       "\n",
       "\n"
      ],
      "text/plain": [
       "$sample.size\n",
       "[1] 295\n",
       "\n",
       "$number.of.items\n",
       "[1] 16\n",
       "\n",
       "$alpha\n",
       "[1] 0.9758603\n"
      ]
     },
     "metadata": {},
     "output_type": "display_data"
    }
   ],
   "source": [
    "cronbach(data[, 12:27])"
   ]
  },
  {
   "cell_type": "markdown",
   "metadata": {},
   "source": [
    "Turnover Alpha"
   ]
  },
  {
   "cell_type": "code",
   "execution_count": 22,
   "metadata": {},
   "outputs": [
    {
     "data": {
      "text/html": [
       "<dl>\n",
       "\t<dt>$sample.size</dt>\n",
       "\t\t<dd>295</dd>\n",
       "\t<dt>$number.of.items</dt>\n",
       "\t\t<dd>3</dd>\n",
       "\t<dt>$alpha</dt>\n",
       "\t\t<dd>0.911591003460208</dd>\n",
       "</dl>\n"
      ],
      "text/latex": [
       "\\begin{description}\n",
       "\\item[\\$sample.size] 295\n",
       "\\item[\\$number.of.items] 3\n",
       "\\item[\\$alpha] 0.911591003460208\n",
       "\\end{description}\n"
      ],
      "text/markdown": [
       "$sample.size\n",
       ":   295\n",
       "$number.of.items\n",
       ":   3\n",
       "$alpha\n",
       ":   0.911591003460208\n",
       "\n",
       "\n"
      ],
      "text/plain": [
       "$sample.size\n",
       "[1] 295\n",
       "\n",
       "$number.of.items\n",
       "[1] 3\n",
       "\n",
       "$alpha\n",
       "[1] 0.911591\n"
      ]
     },
     "metadata": {},
     "output_type": "display_data"
    }
   ],
   "source": [
    "cronbach(data[, 28:30])"
   ]
  },
  {
   "cell_type": "markdown",
   "metadata": {},
   "source": [
    "Factor Analysis with 3 Factors"
   ]
  },
  {
   "cell_type": "markdown",
   "metadata": {},
   "source": [
    "Maximum Likelihood Factor Analysis\n",
    "entering raw data and extracting 3 factors,\n",
    "with varimax rotation"
   ]
  },
  {
   "cell_type": "code",
   "execution_count": 27,
   "metadata": {},
   "outputs": [],
   "source": [
    "data <- data[, 2:30]"
   ]
  },
  {
   "cell_type": "code",
   "execution_count": 29,
   "metadata": {},
   "outputs": [
    {
     "data": {
      "text/html": [
       "<table>\n",
       "<thead><tr><th scope=col>Learning_1</th><th scope=col>Learning_2</th><th scope=col>Learning_3</th><th scope=col>Learning_4</th><th scope=col>Learning_5</th><th scope=col>Learning_6</th><th scope=col>Learning_7</th><th scope=col>Learning_8</th><th scope=col>Learn_1</th><th scope=col>Learn_2</th><th scope=col>...</th><th scope=col>Auth_2</th><th scope=col>Auth_3</th><th scope=col>Auth_4</th><th scope=col>Auth_5</th><th scope=col>Auth_6</th><th scope=col>Auth_7</th><th scope=col>Auth_8</th><th scope=col>Turnover_1</th><th scope=col>Turnover_2</th><th scope=col>Turnover_3</th></tr></thead>\n",
       "<tbody>\n",
       "\t<tr><td>2  </td><td>1  </td><td>2  </td><td>2  </td><td>2  </td><td>2  </td><td>2  </td><td>1  </td><td>6  </td><td>6  </td><td>...</td><td>4  </td><td>4  </td><td>4  </td><td>3  </td><td>3  </td><td>3  </td><td>3  </td><td>1  </td><td>1  </td><td>1  </td></tr>\n",
       "\t<tr><td>3  </td><td>2  </td><td>2  </td><td>3  </td><td>3  </td><td>3  </td><td>3  </td><td>3  </td><td>2  </td><td>2  </td><td>...</td><td>1  </td><td>1  </td><td>1  </td><td>2  </td><td>2  </td><td>1  </td><td>1  </td><td>5  </td><td>5  </td><td>5  </td></tr>\n",
       "\t<tr><td>4  </td><td>4  </td><td>4  </td><td>4  </td><td>4  </td><td>4  </td><td>4  </td><td>4  </td><td>5  </td><td>5  </td><td>...</td><td>4  </td><td>4  </td><td>4  </td><td>4  </td><td>4  </td><td>4  </td><td>4  </td><td>1  </td><td>3  </td><td>2  </td></tr>\n",
       "\t<tr><td>4  </td><td>4  </td><td>4  </td><td>4  </td><td>4  </td><td>4  </td><td>4  </td><td>4  </td><td>4  </td><td>4  </td><td>...</td><td>4  </td><td>4  </td><td>4  </td><td>4  </td><td>4  </td><td>4  </td><td>4  </td><td>2  </td><td>2  </td><td>2  </td></tr>\n",
       "\t<tr><td>3  </td><td>3  </td><td>3  </td><td>3  </td><td>3  </td><td>3  </td><td>3  </td><td>3  </td><td>6  </td><td>6  </td><td>...</td><td>4  </td><td>4  </td><td>4  </td><td>4  </td><td>4  </td><td>4  </td><td>4  </td><td>2  </td><td>2  </td><td>2  </td></tr>\n",
       "\t<tr><td>3  </td><td>3  </td><td>3  </td><td>3  </td><td>3  </td><td>3  </td><td>3  </td><td>3  </td><td>6  </td><td>6  </td><td>...</td><td>4  </td><td>4  </td><td>4  </td><td>4  </td><td>4  </td><td>4  </td><td>4  </td><td>4  </td><td>4  </td><td>4  </td></tr>\n",
       "</tbody>\n",
       "</table>\n"
      ],
      "text/latex": [
       "\\begin{tabular}{r|lllllllllllllllllllllllllllll}\n",
       " Learning\\_1 & Learning\\_2 & Learning\\_3 & Learning\\_4 & Learning\\_5 & Learning\\_6 & Learning\\_7 & Learning\\_8 & Learn\\_1 & Learn\\_2 & ... & Auth\\_2 & Auth\\_3 & Auth\\_4 & Auth\\_5 & Auth\\_6 & Auth\\_7 & Auth\\_8 & Turnover\\_1 & Turnover\\_2 & Turnover\\_3\\\\\n",
       "\\hline\n",
       "\t 2   & 1   & 2   & 2   & 2   & 2   & 2   & 1   & 6   & 6   & ... & 4   & 4   & 4   & 3   & 3   & 3   & 3   & 1   & 1   & 1  \\\\\n",
       "\t 3   & 2   & 2   & 3   & 3   & 3   & 3   & 3   & 2   & 2   & ... & 1   & 1   & 1   & 2   & 2   & 1   & 1   & 5   & 5   & 5  \\\\\n",
       "\t 4   & 4   & 4   & 4   & 4   & 4   & 4   & 4   & 5   & 5   & ... & 4   & 4   & 4   & 4   & 4   & 4   & 4   & 1   & 3   & 2  \\\\\n",
       "\t 4   & 4   & 4   & 4   & 4   & 4   & 4   & 4   & 4   & 4   & ... & 4   & 4   & 4   & 4   & 4   & 4   & 4   & 2   & 2   & 2  \\\\\n",
       "\t 3   & 3   & 3   & 3   & 3   & 3   & 3   & 3   & 6   & 6   & ... & 4   & 4   & 4   & 4   & 4   & 4   & 4   & 2   & 2   & 2  \\\\\n",
       "\t 3   & 3   & 3   & 3   & 3   & 3   & 3   & 3   & 6   & 6   & ... & 4   & 4   & 4   & 4   & 4   & 4   & 4   & 4   & 4   & 4  \\\\\n",
       "\\end{tabular}\n"
      ],
      "text/markdown": [
       "\n",
       "| Learning_1 | Learning_2 | Learning_3 | Learning_4 | Learning_5 | Learning_6 | Learning_7 | Learning_8 | Learn_1 | Learn_2 | ... | Auth_2 | Auth_3 | Auth_4 | Auth_5 | Auth_6 | Auth_7 | Auth_8 | Turnover_1 | Turnover_2 | Turnover_3 |\n",
       "|---|---|---|---|---|---|---|---|---|---|---|---|---|---|---|---|---|---|---|---|---|\n",
       "| 2   | 1   | 2   | 2   | 2   | 2   | 2   | 1   | 6   | 6   | ... | 4   | 4   | 4   | 3   | 3   | 3   | 3   | 1   | 1   | 1   |\n",
       "| 3   | 2   | 2   | 3   | 3   | 3   | 3   | 3   | 2   | 2   | ... | 1   | 1   | 1   | 2   | 2   | 1   | 1   | 5   | 5   | 5   |\n",
       "| 4   | 4   | 4   | 4   | 4   | 4   | 4   | 4   | 5   | 5   | ... | 4   | 4   | 4   | 4   | 4   | 4   | 4   | 1   | 3   | 2   |\n",
       "| 4   | 4   | 4   | 4   | 4   | 4   | 4   | 4   | 4   | 4   | ... | 4   | 4   | 4   | 4   | 4   | 4   | 4   | 2   | 2   | 2   |\n",
       "| 3   | 3   | 3   | 3   | 3   | 3   | 3   | 3   | 6   | 6   | ... | 4   | 4   | 4   | 4   | 4   | 4   | 4   | 2   | 2   | 2   |\n",
       "| 3   | 3   | 3   | 3   | 3   | 3   | 3   | 3   | 6   | 6   | ... | 4   | 4   | 4   | 4   | 4   | 4   | 4   | 4   | 4   | 4   |\n",
       "\n"
      ],
      "text/plain": [
       "  Learning_1 Learning_2 Learning_3 Learning_4 Learning_5 Learning_6 Learning_7\n",
       "1 2          1          2          2          2          2          2         \n",
       "2 3          2          2          3          3          3          3         \n",
       "3 4          4          4          4          4          4          4         \n",
       "4 4          4          4          4          4          4          4         \n",
       "5 3          3          3          3          3          3          3         \n",
       "6 3          3          3          3          3          3          3         \n",
       "  Learning_8 Learn_1 Learn_2 ... Auth_2 Auth_3 Auth_4 Auth_5 Auth_6 Auth_7\n",
       "1 1          6       6       ... 4      4      4      3      3      3     \n",
       "2 3          2       2       ... 1      1      1      2      2      1     \n",
       "3 4          5       5       ... 4      4      4      4      4      4     \n",
       "4 4          4       4       ... 4      4      4      4      4      4     \n",
       "5 3          6       6       ... 4      4      4      4      4      4     \n",
       "6 3          6       6       ... 4      4      4      4      4      4     \n",
       "  Auth_8 Turnover_1 Turnover_2 Turnover_3\n",
       "1 3      1          1          1         \n",
       "2 1      5          5          5         \n",
       "3 4      1          3          2         \n",
       "4 4      2          2          2         \n",
       "5 4      2          2          2         \n",
       "6 4      4          4          4         "
      ]
     },
     "metadata": {},
     "output_type": "display_data"
    }
   ],
   "source": [
    "head(data)"
   ]
  },
  {
   "cell_type": "code",
   "execution_count": 28,
   "metadata": {},
   "outputs": [
    {
     "name": "stdout",
     "output_type": "stream",
     "text": [
      "\n",
      "Call:\n",
      "factanal(x = data, factors = 3)\n",
      "\n",
      "Uniquenesses:\n",
      "Learning_1 Learning_2 Learning_3 Learning_4 Learning_5 Learning_6 Learning_7 \n",
      "      0.29       0.20       0.19       0.23       0.25       0.17       0.20 \n",
      "Learning_8    Learn_1    Learn_2   Belong_1   Belong_2   Belong_3   Belong_4 \n",
      "      0.25       0.81       0.83       0.22       0.17       0.21       0.33 \n",
      "  Belong_5   Belong_6   Belong_7   Belong_8     Auth_1     Auth_2     Auth_3 \n",
      "      0.28       0.25       0.28       0.28       0.25       0.24       0.25 \n",
      "    Auth_4     Auth_5     Auth_6     Auth_7     Auth_8 Turnover_1 Turnover_2 \n",
      "      0.24       0.15       0.09       0.06       0.10       0.63       0.73 \n",
      "Turnover_3 \n",
      "      0.74 \n",
      "\n",
      "Loadings:\n",
      "           Factor1 Factor2 Factor3\n",
      "Belong_1    0.80            0.37  \n",
      "Belong_2    0.86                  \n",
      "Belong_3    0.82            0.30  \n",
      "Belong_4    0.77                  \n",
      "Belong_5    0.78            0.30  \n",
      "Belong_6    0.82                  \n",
      "Belong_7    0.80                  \n",
      "Belong_8    0.75            0.36  \n",
      "Turnover_1 -0.51                  \n",
      "Learning_1          0.83          \n",
      "Learning_2          0.88          \n",
      "Learning_3          0.89          \n",
      "Learning_4          0.87          \n",
      "Learning_5          0.85          \n",
      "Learning_6          0.90          \n",
      "Learning_7          0.88          \n",
      "Learning_8          0.85          \n",
      "Auth_1      0.59            0.62  \n",
      "Auth_2      0.57            0.65  \n",
      "Auth_3      0.55            0.66  \n",
      "Auth_4      0.60            0.63  \n",
      "Auth_5      0.50            0.76  \n",
      "Auth_6      0.49            0.81  \n",
      "Auth_7      0.53            0.80  \n",
      "Auth_8      0.55            0.76  \n",
      "Learn_1     0.34                  \n",
      "Learn_2     0.33                  \n",
      "Turnover_2 -0.46                  \n",
      "Turnover_3 -0.46                  \n",
      "\n",
      "               Factor1 Factor2 Factor3\n",
      "SS loadings       8.55    6.41    5.10\n",
      "Proportion Var    0.29    0.22    0.18\n",
      "Cumulative Var    0.29    0.52    0.69\n",
      "\n",
      "Test of the hypothesis that 3 factors are sufficient.\n",
      "The chi square statistic is 2055.33 on 322 degrees of freedom.\n",
      "The p-value is 9.71e-250 \n"
     ]
    },
    {
     "data": {
      "image/png": "[encoded data removed]",
      "text/plain": [
       "plot without title"
      ]
     },
     "metadata": {},
     "output_type": "display_data"
    }
   ],
   "source": [
    "fit <- factanal(data, 3)\n",
    "print(fit, digits=2, cutoff=.3, sort=TRUE)\n",
    "# plot factor 1 by factor 2\n",
    "load <- fit$loadings[,1:2]\n",
    "plot(load,type=\"n\") # set up plot\n",
    "text(load,labels=names(data),cex=.7) # add variable names"
   ]
  },
  {
   "cell_type": "code",
   "execution_count": null,
   "metadata": {},
   "outputs": [],
   "source": []
  }
 ],
 "metadata": {
  "kernelspec": {
   "display_name": "R",
   "language": "R",
   "name": "ir"
  },
  "language_info": {
   "name": ""
  }
 },
 "nbformat": 4,
 "nbformat_minor": 4
}
