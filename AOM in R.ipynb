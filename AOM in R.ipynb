{
 "cells": [
  {
   "cell_type": "code",
   "execution_count": 2,
   "metadata": {},
   "outputs": [],
   "source": [
    "library(tidyverse)\n",
    "library(gtools)\n",
    "library(tibble)\n",
    "library(dplyr)\n",
    "library(psy)\n",
    "library(nFactors)"
   ]
  },
  {
   "cell_type": "markdown",
   "metadata": {},
   "source": [
    "Now I am going to get cronbach's alpha for items"
   ]
  },
  {
   "cell_type": "code",
   "execution_count": 7,
   "metadata": {},
   "outputs": [
    {
     "data": {
      "text/html": [
       "'C:/Users/Sam Cannon/Desktop/Python/SIOP 2020'"
      ],
      "text/latex": [
       "'C:/Users/Sam Cannon/Desktop/Python/SIOP 2020'"
      ],
      "text/markdown": [
       "'C:/Users/Sam Cannon/Desktop/Python/SIOP 2020'"
      ],
      "text/plain": [
       "[1] \"C:/Users/Sam Cannon/Desktop/Python/SIOP 2020\""
      ]
     },
     "metadata": {},
     "output_type": "display_data"
    }
   ],
   "source": [
    "getwd()"
   ]
  },
  {
   "cell_type": "code",
   "execution_count": 12,
   "metadata": {},
   "outputs": [],
   "source": [
    "data_1 <- read.csv(\"factor_analysis_data.csv\", header = T)\n",
    "df <- read.csv(\"composite_df.csv\", header = TRUE)"
   ]
  },
  {
   "cell_type": "markdown",
   "metadata": {},
   "source": [
    "Learning Alpha"
   ]
  },
  {
   "cell_type": "code",
   "execution_count": 13,
   "metadata": {},
   "outputs": [
    {
     "data": {
      "text/html": [
       "<dl>\n",
       "\t<dt>$sample.size</dt>\n",
       "\t\t<dd>292</dd>\n",
       "\t<dt>$number.of.items</dt>\n",
       "\t\t<dd>10</dd>\n",
       "\t<dt>$alpha</dt>\n",
       "\t\t<dd>0.9183583300531</dd>\n",
       "</dl>\n"
      ],
      "text/latex": [
       "\\begin{description}\n",
       "\\item[\\$sample.size] 292\n",
       "\\item[\\$number.of.items] 10\n",
       "\\item[\\$alpha] 0.9183583300531\n",
       "\\end{description}\n"
      ],
      "text/markdown": [
       "$sample.size\n",
       ":   292\n",
       "$number.of.items\n",
       ":   10\n",
       "$alpha\n",
       ":   0.9183583300531\n",
       "\n",
       "\n"
      ],
      "text/plain": [
       "$sample.size\n",
       "[1] 292\n",
       "\n",
       "$number.of.items\n",
       "[1] 10\n",
       "\n",
       "$alpha\n",
       "[1] 0.9183583\n"
      ]
     },
     "metadata": {},
     "output_type": "display_data"
    }
   ],
   "source": [
    "cronbach(data_1[, 2:11])"
   ]
  },
  {
   "cell_type": "markdown",
   "metadata": {},
   "source": [
    "Belonging and Authenticity Alpha"
   ]
  },
  {
   "cell_type": "markdown",
   "metadata": {},
   "source": [
    "Factor Analysis with 2 Factors"
   ]
  },
  {
   "cell_type": "markdown",
   "metadata": {},
   "source": [
    "Maximum Likelihood Factor Analysis\n",
    "entering raw data and extracting 3 factors,\n",
    "with promax rotation"
   ]
  },
  {
   "cell_type": "code",
   "execution_count": 18,
   "metadata": {},
   "outputs": [],
   "source": [
    "# drop \"x\" column\n",
    "data_1 <- subset(data_1, select = -c(X))"
   ]
  },
  {
   "cell_type": "code",
   "execution_count": 20,
   "metadata": {},
   "outputs": [
    {
     "data": {
      "text/html": [
       "<table>\n",
       "<thead><tr><th scope=col>Learning_1</th><th scope=col>Learning_2</th><th scope=col>Learning_3</th><th scope=col>Learning_4</th><th scope=col>Learning_5</th><th scope=col>Learning_6</th><th scope=col>Learning_7</th><th scope=col>Learning_8</th><th scope=col>Learn_1</th><th scope=col>Learn_2</th></tr></thead>\n",
       "<tbody>\n",
       "\t<tr><td>2</td><td>1</td><td>2</td><td>2</td><td>2</td><td>2</td><td>2</td><td>1</td><td>6</td><td>6</td></tr>\n",
       "\t<tr><td>3</td><td>2</td><td>2</td><td>3</td><td>3</td><td>3</td><td>3</td><td>3</td><td>2</td><td>2</td></tr>\n",
       "\t<tr><td>4</td><td>4</td><td>4</td><td>4</td><td>4</td><td>4</td><td>4</td><td>4</td><td>5</td><td>5</td></tr>\n",
       "\t<tr><td>4</td><td>4</td><td>4</td><td>4</td><td>4</td><td>4</td><td>4</td><td>4</td><td>4</td><td>4</td></tr>\n",
       "\t<tr><td>3</td><td>3</td><td>3</td><td>3</td><td>3</td><td>3</td><td>3</td><td>3</td><td>6</td><td>6</td></tr>\n",
       "\t<tr><td>3</td><td>3</td><td>3</td><td>3</td><td>3</td><td>3</td><td>3</td><td>3</td><td>6</td><td>6</td></tr>\n",
       "</tbody>\n",
       "</table>\n"
      ],
      "text/latex": [
       "\\begin{tabular}{r|llllllllll}\n",
       " Learning\\_1 & Learning\\_2 & Learning\\_3 & Learning\\_4 & Learning\\_5 & Learning\\_6 & Learning\\_7 & Learning\\_8 & Learn\\_1 & Learn\\_2\\\\\n",
       "\\hline\n",
       "\t 2 & 1 & 2 & 2 & 2 & 2 & 2 & 1 & 6 & 6\\\\\n",
       "\t 3 & 2 & 2 & 3 & 3 & 3 & 3 & 3 & 2 & 2\\\\\n",
       "\t 4 & 4 & 4 & 4 & 4 & 4 & 4 & 4 & 5 & 5\\\\\n",
       "\t 4 & 4 & 4 & 4 & 4 & 4 & 4 & 4 & 4 & 4\\\\\n",
       "\t 3 & 3 & 3 & 3 & 3 & 3 & 3 & 3 & 6 & 6\\\\\n",
       "\t 3 & 3 & 3 & 3 & 3 & 3 & 3 & 3 & 6 & 6\\\\\n",
       "\\end{tabular}\n"
      ],
      "text/markdown": [
       "\n",
       "| Learning_1 | Learning_2 | Learning_3 | Learning_4 | Learning_5 | Learning_6 | Learning_7 | Learning_8 | Learn_1 | Learn_2 |\n",
       "|---|---|---|---|---|---|---|---|---|---|\n",
       "| 2 | 1 | 2 | 2 | 2 | 2 | 2 | 1 | 6 | 6 |\n",
       "| 3 | 2 | 2 | 3 | 3 | 3 | 3 | 3 | 2 | 2 |\n",
       "| 4 | 4 | 4 | 4 | 4 | 4 | 4 | 4 | 5 | 5 |\n",
       "| 4 | 4 | 4 | 4 | 4 | 4 | 4 | 4 | 4 | 4 |\n",
       "| 3 | 3 | 3 | 3 | 3 | 3 | 3 | 3 | 6 | 6 |\n",
       "| 3 | 3 | 3 | 3 | 3 | 3 | 3 | 3 | 6 | 6 |\n",
       "\n"
      ],
      "text/plain": [
       "  Learning_1 Learning_2 Learning_3 Learning_4 Learning_5 Learning_6 Learning_7\n",
       "1 2          1          2          2          2          2          2         \n",
       "2 3          2          2          3          3          3          3         \n",
       "3 4          4          4          4          4          4          4         \n",
       "4 4          4          4          4          4          4          4         \n",
       "5 3          3          3          3          3          3          3         \n",
       "6 3          3          3          3          3          3          3         \n",
       "  Learning_8 Learn_1 Learn_2\n",
       "1 1          6       6      \n",
       "2 3          2       2      \n",
       "3 4          5       5      \n",
       "4 4          4       4      \n",
       "5 3          6       6      \n",
       "6 3          6       6      "
      ]
     },
     "metadata": {},
     "output_type": "display_data"
    }
   ],
   "source": [
    "head(data_1)"
   ]
  },
  {
   "cell_type": "markdown",
   "metadata": {},
   "source": [
    "## How many factors should we have?\n",
    "- use a scree plot to determine"
   ]
  },
  {
   "cell_type": "code",
   "execution_count": 30,
   "metadata": {},
   "outputs": [
    {
     "data": {
      "image/png": "[encoded data removed]",
      "text/plain": [
       "Plot with title \"Non Graphical Solutions to Scree Test\""
      ]
     },
     "metadata": {},
     "output_type": "display_data"
    }
   ],
   "source": [
    "ev <- eigen(cor(data_1)) # get eigenvalues\n",
    "ap <- parallel(subject=nrow(data_1),var=ncol(data_1),\n",
    "  rep=50,cent=.05)\n",
    "nS <- nScree(x=ev$values, aparallel=ap$eigen$qevpea)\n",
    "plotnScree(nS)"
   ]
  },
  {
   "cell_type": "markdown",
   "metadata": {},
   "source": [
    "## Use 2 factors, as suggested by the scree plot"
   ]
  },
  {
   "cell_type": "code",
   "execution_count": 25,
   "metadata": {},
   "outputs": [
    {
     "name": "stdout",
     "output_type": "stream",
     "text": [
      "\n",
      "Call:\n",
      "factanal(x = data_1, factors = 2, rotation = \"promax\")\n",
      "\n",
      "Uniquenesses:\n",
      "Learning_1 Learning_2 Learning_3 Learning_4 Learning_5 Learning_6 Learning_7 \n",
      "      0.29       0.20       0.19       0.23       0.25       0.18       0.19 \n",
      "Learning_8    Learn_1    Learn_2 \n",
      "      0.25       0.00       0.21 \n",
      "\n",
      "Loadings:\n",
      "           Factor1 Factor2\n",
      "Learning_1  0.84          \n",
      "Learning_2  0.88          \n",
      "Learning_3  0.89          \n",
      "Learning_4  0.86          \n",
      "Learning_5  0.86          \n",
      "Learning_6  0.91          \n",
      "Learning_7  0.91          \n",
      "Learning_8  0.88          \n",
      "Learn_1             1.00  \n",
      "Learn_2             0.89  \n",
      "\n",
      "               Factor1 Factor2\n",
      "SS loadings       6.19    1.79\n",
      "Proportion Var    0.62    0.18\n",
      "Cumulative Var    0.62    0.80\n",
      "\n",
      "Factor Correlations:\n",
      "        Factor1 Factor2\n",
      "Factor1    1.00    0.28\n",
      "Factor2    0.28    1.00\n",
      "\n",
      "Test of the hypothesis that 2 factors are sufficient.\n",
      "The chi square statistic is 246.51 on 26 degrees of freedom.\n",
      "The p-value is 8.41e-38 \n"
     ]
    },
    {
     "data": {
      "image/png": "[encoded data removed]",
      "text/plain": [
       "plot without title"
      ]
     },
     "metadata": {},
     "output_type": "display_data"
    }
   ],
   "source": [
    "fit <- factanal(data_1, 2, rotation = \"promax\")\n",
    "print(fit, digits=2, cutoff=.3, sort=TRUE)\n",
    "# plot factor 1 by factor 2\n",
    "load <- fit$loadings[,1:2]\n",
    "plot(load,type=\"n\") # set up plot\n",
    "text(load,labels=names(data_1),cex=.7) # add variable names"
   ]
  },
  {
   "cell_type": "markdown",
   "metadata": {},
   "source": [
    "# Begin Mediation Analysis with Learning/Learn Together"
   ]
  },
  {
   "cell_type": "code",
   "execution_count": 7,
   "metadata": {},
   "outputs": [
    {
     "data": {
      "text/html": [
       "<table>\n",
       "<thead><tr><th scope=col>X</th><th scope=col>turnover_mean</th><th scope=col>inclusion_mean</th><th scope=col>learning_mean</th><th scope=col>micro_count</th></tr></thead>\n",
       "<tbody>\n",
       "\t<tr><td>0     </td><td>4     </td><td>3.8750</td><td>2.6   </td><td>14    </td></tr>\n",
       "\t<tr><td>1     </td><td>0     </td><td>1.8125</td><td>2.6   </td><td> 6    </td></tr>\n",
       "\t<tr><td>2     </td><td>3     </td><td>4.5000</td><td>4.2   </td><td>14    </td></tr>\n",
       "\t<tr><td>3     </td><td>3     </td><td>4.0000</td><td>4.0   </td><td>14    </td></tr>\n",
       "\t<tr><td>4     </td><td>3     </td><td>4.5000</td><td>3.6   </td><td>14    </td></tr>\n",
       "\t<tr><td>5     </td><td>1     </td><td>4.0000</td><td>3.6   </td><td>14    </td></tr>\n",
       "</tbody>\n",
       "</table>\n"
      ],
      "text/latex": [
       "\\begin{tabular}{r|lllll}\n",
       " X & turnover\\_mean & inclusion\\_mean & learning\\_mean & micro\\_count\\\\\n",
       "\\hline\n",
       "\t 0      & 4      & 3.8750 & 2.6    & 14    \\\\\n",
       "\t 1      & 0      & 1.8125 & 2.6    &  6    \\\\\n",
       "\t 2      & 3      & 4.5000 & 4.2    & 14    \\\\\n",
       "\t 3      & 3      & 4.0000 & 4.0    & 14    \\\\\n",
       "\t 4      & 3      & 4.5000 & 3.6    & 14    \\\\\n",
       "\t 5      & 1      & 4.0000 & 3.6    & 14    \\\\\n",
       "\\end{tabular}\n"
      ],
      "text/markdown": [
       "\n",
       "| X | turnover_mean | inclusion_mean | learning_mean | micro_count |\n",
       "|---|---|---|---|---|\n",
       "| 0      | 4      | 3.8750 | 2.6    | 14     |\n",
       "| 1      | 0      | 1.8125 | 2.6    |  6     |\n",
       "| 2      | 3      | 4.5000 | 4.2    | 14     |\n",
       "| 3      | 3      | 4.0000 | 4.0    | 14     |\n",
       "| 4      | 3      | 4.5000 | 3.6    | 14     |\n",
       "| 5      | 1      | 4.0000 | 3.6    | 14     |\n",
       "\n"
      ],
      "text/plain": [
       "  X turnover_mean inclusion_mean learning_mean micro_count\n",
       "1 0 4             3.8750         2.6           14         \n",
       "2 1 0             1.8125         2.6            6         \n",
       "3 2 3             4.5000         4.2           14         \n",
       "4 3 3             4.0000         4.0           14         \n",
       "5 4 3             4.5000         3.6           14         \n",
       "6 5 1             4.0000         3.6           14         "
      ]
     },
     "metadata": {},
     "output_type": "display_data"
    }
   ],
   "source": [
    "head(df)"
   ]
  },
  {
   "cell_type": "code",
   "execution_count": 8,
   "metadata": {},
   "outputs": [
    {
     "data": {
      "text/plain": [
       "\n",
       "Call:\n",
       "lm(formula = inclusion_mean ~ learning_mean, data = df)\n",
       "\n",
       "Residuals:\n",
       "    Min      1Q  Median      3Q     Max \n",
       "-2.9799 -0.5294  0.1264  0.5922  1.6795 \n",
       "\n",
       "Coefficients:\n",
       "              Estimate Std. Error t value Pr(>|t|)    \n",
       "(Intercept)    2.72572    0.15511  17.573  < 2e-16 ***\n",
       "learning_mean  0.37028    0.05076   7.294 2.88e-12 ***\n",
       "---\n",
       "Signif. codes:  0 '***' 0.001 '**' 0.01 '*' 0.05 '.' 0.1 ' ' 1\n",
       "\n",
       "Residual standard error: 0.8385 on 290 degrees of freedom\n",
       "Multiple R-squared:  0.155,\tAdjusted R-squared:  0.1521 \n",
       "F-statistic:  53.2 on 1 and 290 DF,  p-value: 2.883e-12\n"
      ]
     },
     "metadata": {},
     "output_type": "display_data"
    }
   ],
   "source": [
    "#Baron and Kenny Method.\n",
    "#First, regress inclusion on learning to obtain a path.\n",
    "apath<-lm(inclusion_mean ~ learning_mean, data = df)\n",
    "summary(apath)"
   ]
  },
  {
   "cell_type": "code",
   "execution_count": 9,
   "metadata": {},
   "outputs": [
    {
     "data": {
      "text/plain": [
       "\n",
       "Call:\n",
       "lm(formula = turnover_mean ~ learning_mean + inclusion_mean, \n",
       "    data = df)\n",
       "\n",
       "Residuals:\n",
       "     Min       1Q   Median       3Q      Max \n",
       "-3.11497 -0.84138  0.09696  0.85503  3.01568 \n",
       "\n",
       "Coefficients:\n",
       "               Estimate Std. Error t value Pr(>|t|)    \n",
       "(Intercept)    -1.20033    0.29658  -4.047 6.66e-05 ***\n",
       "learning_mean   0.03000    0.07348   0.408    0.683    \n",
       "inclusion_mean  0.84386    0.07814  10.800  < 2e-16 ***\n",
       "---\n",
       "Signif. codes:  0 '***' 0.001 '**' 0.01 '*' 0.05 '.' 0.1 ' ' 1\n",
       "\n",
       "Residual standard error: 1.116 on 289 degrees of freedom\n",
       "Multiple R-squared:   0.33,\tAdjusted R-squared:  0.3254 \n",
       "F-statistic: 71.17 on 2 and 289 DF,  p-value: < 2.2e-16\n"
      ]
     },
     "metadata": {},
     "output_type": "display_data"
    }
   ],
   "source": [
    "#Next, obtain c path by regressing turnover on learning and inclusion\n",
    "\n",
    "cpath<-lm(turnover_mean ~ learning_mean + inclusion_mean, data = df)\n",
    "summary(cpath)  "
   ]
  },
  {
   "cell_type": "code",
   "execution_count": 39,
   "metadata": {},
   "outputs": [
    {
     "data": {
      "text/html": [
       "<table>\n",
       "<thead><tr><th></th><th scope=col>Sobel</th><th scope=col>Aroian</th><th scope=col>Goodman</th></tr></thead>\n",
       "<tbody>\n",
       "\t<tr><th scope=row>z.value</th><td>6.044640e+00</td><td>6.026923e+00</td><td>6.062514e+00</td></tr>\n",
       "\t<tr><th scope=row>p.value</th><td>1.497441e-09</td><td>1.671106e-09</td><td>1.340103e-09</td></tr>\n",
       "</tbody>\n",
       "</table>\n"
      ],
      "text/latex": [
       "\\begin{tabular}{r|lll}\n",
       "  & Sobel & Aroian & Goodman\\\\\n",
       "\\hline\n",
       "\tz.value & 6.044640e+00 & 6.026923e+00 & 6.062514e+00\\\\\n",
       "\tp.value & 1.497441e-09 & 1.671106e-09 & 1.340103e-09\\\\\n",
       "\\end{tabular}\n"
      ],
      "text/markdown": [
       "\n",
       "| <!--/--> | Sobel | Aroian | Goodman |\n",
       "|---|---|---|---|\n",
       "| z.value | 6.044640e+00 | 6.026923e+00 | 6.062514e+00 |\n",
       "| p.value | 1.497441e-09 | 1.671106e-09 | 1.340103e-09 |\n",
       "\n"
      ],
      "text/plain": [
       "        Sobel        Aroian       Goodman     \n",
       "z.value 6.044640e+00 6.026923e+00 6.062514e+00\n",
       "p.value 1.497441e-09 1.671106e-09 1.340103e-09"
      ]
     },
     "metadata": {},
     "output_type": "display_data"
    }
   ],
   "source": [
    "#Run Sobel test.\n",
    "library(bda)\n",
    "mediation.test(df$inclusion_mean, df$learning_mean, df$turnover_mean) #Order: med,IV,DV"
   ]
  },
  {
   "cell_type": "code",
   "execution_count": 23,
   "metadata": {},
   "outputs": [
    {
     "name": "stdout",
     "output_type": "stream",
     "text": [
      "[1] \"Bootstrap resampling has begun. This process may take a considerable amount of time if the number of replications is large, which is optimal for the bootstrap procedure.\"\n"
     ]
    },
    {
     "data": {
      "text/html": [
       "<table>\n",
       "<thead><tr><th></th><th scope=col>Estimate</th><th scope=col>CI.Lower_Percentile</th><th scope=col>CI.Upper_Percentile</th></tr></thead>\n",
       "<tbody>\n",
       "\t<tr><th scope=row>Indirect.Effect</th><td> 0.31246007 </td><td>  0.22076708</td><td> 0.41160188 </td></tr>\n",
       "\t<tr><th scope=row>Indirect.Effect.Partially.Standardized</th><td> 0.23002496 </td><td>  0.16418466</td><td> 0.30126525 </td></tr>\n",
       "\t<tr><th scope=row>Index.of.Mediation</th><td> 0.22273171 </td><td>  0.15584904</td><td> 0.29583826 </td></tr>\n",
       "\t<tr><th scope=row>R2_4.5</th><td> 0.05920697 </td><td>  0.01203253</td><td> 0.11799703 </td></tr>\n",
       "\t<tr><th scope=row>R2_4.6</th><td> 0.04457520 </td><td>  0.02276646</td><td> 0.07435383 </td></tr>\n",
       "\t<tr><th scope=row>R2_4.7</th><td> 0.13507754 </td><td>  0.07641664</td><td> 0.19703451 </td></tr>\n",
       "\t<tr><th scope=row>Ratio.of.Indirect.to.Total.Effect</th><td> 0.91239496 </td><td>  0.60286172</td><td> 1.57236127 </td></tr>\n",
       "\t<tr><th scope=row>Ratio.of.Indirect.to.Direct.Effect</th><td>10.41486842 </td><td>-54.42266075</td><td>63.52444324 </td></tr>\n",
       "\t<tr><th scope=row>Success.of.Surrogate.Endpoint</th><td> 0.92488190 </td><td>  0.56165013</td><td> 1.27252642 </td></tr>\n",
       "\t<tr><th scope=row>Residual.Based_Gamma</th><td> 0.07058266 </td><td>  0.03013600</td><td> 0.12093267 </td></tr>\n",
       "\t<tr><th scope=row>Residual.Based.Standardized_gamma</th><td> 0.07490587 </td><td>  0.03500294</td><td> 0.12573409 </td></tr>\n",
       "\t<tr><th scope=row>SOS</th><td> 0.99351510 </td><td>  0.71279910</td><td> 0.99993847 </td></tr>\n",
       "</tbody>\n",
       "</table>\n"
      ],
      "text/latex": [
       "\\begin{tabular}{r|lll}\n",
       "  & Estimate & CI.Lower\\_Percentile & CI.Upper\\_Percentile\\\\\n",
       "\\hline\n",
       "\tIndirect.Effect &  0.31246007  &   0.22076708 &  0.41160188 \\\\\n",
       "\tIndirect.Effect.Partially.Standardized &  0.23002496  &   0.16418466 &  0.30126525 \\\\\n",
       "\tIndex.of.Mediation &  0.22273171  &   0.15584904 &  0.29583826 \\\\\n",
       "\tR2\\_4.5 &  0.05920697  &   0.01203253 &  0.11799703 \\\\\n",
       "\tR2\\_4.6 &  0.04457520  &   0.02276646 &  0.07435383 \\\\\n",
       "\tR2\\_4.7 &  0.13507754  &   0.07641664 &  0.19703451 \\\\\n",
       "\tRatio.of.Indirect.to.Total.Effect &  0.91239496  &   0.60286172 &  1.57236127 \\\\\n",
       "\tRatio.of.Indirect.to.Direct.Effect & 10.41486842  & -54.42266075 & 63.52444324 \\\\\n",
       "\tSuccess.of.Surrogate.Endpoint &  0.92488190  &   0.56165013 &  1.27252642 \\\\\n",
       "\tResidual.Based\\_Gamma &  0.07058266  &   0.03013600 &  0.12093267 \\\\\n",
       "\tResidual.Based.Standardized\\_gamma &  0.07490587  &   0.03500294 &  0.12573409 \\\\\n",
       "\tSOS &  0.99351510  &   0.71279910 &  0.99993847 \\\\\n",
       "\\end{tabular}\n"
      ],
      "text/markdown": [
       "\n",
       "| <!--/--> | Estimate | CI.Lower_Percentile | CI.Upper_Percentile |\n",
       "|---|---|---|---|\n",
       "| Indirect.Effect |  0.31246007  |   0.22076708 |  0.41160188  |\n",
       "| Indirect.Effect.Partially.Standardized |  0.23002496  |   0.16418466 |  0.30126525  |\n",
       "| Index.of.Mediation |  0.22273171  |   0.15584904 |  0.29583826  |\n",
       "| R2_4.5 |  0.05920697  |   0.01203253 |  0.11799703  |\n",
       "| R2_4.6 |  0.04457520  |   0.02276646 |  0.07435383  |\n",
       "| R2_4.7 |  0.13507754  |   0.07641664 |  0.19703451  |\n",
       "| Ratio.of.Indirect.to.Total.Effect |  0.91239496  |   0.60286172 |  1.57236127  |\n",
       "| Ratio.of.Indirect.to.Direct.Effect | 10.41486842  | -54.42266075 | 63.52444324  |\n",
       "| Success.of.Surrogate.Endpoint |  0.92488190  |   0.56165013 |  1.27252642  |\n",
       "| Residual.Based_Gamma |  0.07058266  |   0.03013600 |  0.12093267  |\n",
       "| Residual.Based.Standardized_gamma |  0.07490587  |   0.03500294 |  0.12573409  |\n",
       "| SOS |  0.99351510  |   0.71279910 |  0.99993847  |\n",
       "\n"
      ],
      "text/plain": [
       "                                       Estimate    CI.Lower_Percentile\n",
       "Indirect.Effect                         0.31246007   0.22076708       \n",
       "Indirect.Effect.Partially.Standardized  0.23002496   0.16418466       \n",
       "Index.of.Mediation                      0.22273171   0.15584904       \n",
       "R2_4.5                                  0.05920697   0.01203253       \n",
       "R2_4.6                                  0.04457520   0.02276646       \n",
       "R2_4.7                                  0.13507754   0.07641664       \n",
       "Ratio.of.Indirect.to.Total.Effect       0.91239496   0.60286172       \n",
       "Ratio.of.Indirect.to.Direct.Effect     10.41486842 -54.42266075       \n",
       "Success.of.Surrogate.Endpoint           0.92488190   0.56165013       \n",
       "Residual.Based_Gamma                    0.07058266   0.03013600       \n",
       "Residual.Based.Standardized_gamma       0.07490587   0.03500294       \n",
       "SOS                                     0.99351510   0.71279910       \n",
       "                                       CI.Upper_Percentile\n",
       "Indirect.Effect                         0.41160188        \n",
       "Indirect.Effect.Partially.Standardized  0.30126525        \n",
       "Index.of.Mediation                      0.29583826        \n",
       "R2_4.5                                  0.11799703        \n",
       "R2_4.6                                  0.07435383        \n",
       "R2_4.7                                  0.19703451        \n",
       "Ratio.of.Indirect.to.Total.Effect       1.57236127        \n",
       "Ratio.of.Indirect.to.Direct.Effect     63.52444324        \n",
       "Success.of.Surrogate.Endpoint           1.27252642        \n",
       "Residual.Based_Gamma                    0.12093267        \n",
       "Residual.Based.Standardized_gamma       0.12573409        \n",
       "SOS                                     0.99993847        "
      ]
     },
     "metadata": {},
     "output_type": "display_data"
    }
   ],
   "source": [
    "# Conduct bootsrapping procedure to determine significance of indirect effect\n",
    "# (apath * bpath).\n",
    "\n",
    "library(MBESS)\n",
    "\n",
    "mediation(df$learning_mean, df$inclusion_mean, df$turnover_mean, conf.level = 0.95, bootstrap = T, B = 5000, which.boot=\"Percentile\")"
   ]
  },
  {
   "cell_type": "markdown",
   "metadata": {},
   "source": [
    "# Creating Correlation Table and Mediations for Learn/Learning Separately"
   ]
  },
  {
   "cell_type": "code",
   "execution_count": 3,
   "metadata": {},
   "outputs": [],
   "source": [
    "corr_df <- read.csv(\"AOM_correlation_data.csv\", header = TRUE)"
   ]
  },
  {
   "cell_type": "markdown",
   "metadata": {},
   "source": [
    "__This is the mediation for learning separate from learn__"
   ]
  },
  {
   "cell_type": "code",
   "execution_count": 5,
   "metadata": {},
   "outputs": [
    {
     "name": "stdout",
     "output_type": "stream",
     "text": [
      "[1] \"Bootstrap resampling has begun. This process may take a considerable amount of time if the number of replications is large, which is optimal for the bootstrap procedure.\"\n"
     ]
    },
    {
     "data": {
      "text/html": [
       "<table>\n",
       "<thead><tr><th></th><th scope=col>Estimate</th><th scope=col>CI.Lower_Percentile</th><th scope=col>CI.Upper_Percentile</th></tr></thead>\n",
       "<tbody>\n",
       "\t<tr><th scope=row>Indirect.Effect</th><td>  0.23371684 </td><td>  0.150695413</td><td> 0.32212323  </td></tr>\n",
       "\t<tr><th scope=row>Indirect.Effect.Partially.Standardized</th><td>  0.17205624 </td><td>  0.111928936</td><td> 0.23683471  </td></tr>\n",
       "\t<tr><th scope=row>Index.of.Mediation</th><td>  0.17907507 </td><td>  0.113895738</td><td> 0.24765253  </td></tr>\n",
       "\t<tr><th scope=row>R2_4.5</th><td>  0.03220365 </td><td> -0.004550556</td><td> 0.07948885  </td></tr>\n",
       "\t<tr><th scope=row>R2_4.6</th><td>  0.02990992 </td><td>  0.012506215</td><td> 0.05458876  </td></tr>\n",
       "\t<tr><th scope=row>R2_4.7</th><td>  0.09074313 </td><td>  0.040914531</td><td> 0.14864273  </td></tr>\n",
       "\t<tr><th scope=row>Ratio.of.Indirect.to.Total.Effect</th><td>  0.99788780 </td><td>  0.620246495</td><td> 2.48200502  </td></tr>\n",
       "\t<tr><th scope=row>Ratio.of.Indirect.to.Direct.Effect</th><td>472.44021424 </td><td>-48.654816804</td><td>48.07279880  </td></tr>\n",
       "\t<tr><th scope=row>Success.of.Surrogate.Endpoint</th><td>  0.85805421 </td><td>  0.349923281</td><td> 1.29747967  </td></tr>\n",
       "\t<tr><th scope=row>Residual.Based_Gamma</th><td>  0.04792084 </td><td>  0.014596296</td><td> 0.08887595  </td></tr>\n",
       "\t<tr><th scope=row>Residual.Based.Standardized_gamma</th><td>  0.05111001 </td><td>  0.017549290</td><td> 0.09243230  </td></tr>\n",
       "\t<tr><th scope=row>SOS</th><td>  0.99999597 </td><td> -1.172868981</td><td> 0.99990059  </td></tr>\n",
       "</tbody>\n",
       "</table>\n"
      ],
      "text/latex": [
       "\\begin{tabular}{r|lll}\n",
       "  & Estimate & CI.Lower\\_Percentile & CI.Upper\\_Percentile\\\\\n",
       "\\hline\n",
       "\tIndirect.Effect &   0.23371684  &   0.150695413 &  0.32212323  \\\\\n",
       "\tIndirect.Effect.Partially.Standardized &   0.17205624  &   0.111928936 &  0.23683471  \\\\\n",
       "\tIndex.of.Mediation &   0.17907507  &   0.113895738 &  0.24765253  \\\\\n",
       "\tR2\\_4.5 &   0.03220365  &  -0.004550556 &  0.07948885  \\\\\n",
       "\tR2\\_4.6 &   0.02990992  &   0.012506215 &  0.05458876  \\\\\n",
       "\tR2\\_4.7 &   0.09074313  &   0.040914531 &  0.14864273  \\\\\n",
       "\tRatio.of.Indirect.to.Total.Effect &   0.99788780  &   0.620246495 &  2.48200502  \\\\\n",
       "\tRatio.of.Indirect.to.Direct.Effect & 472.44021424  & -48.654816804 & 48.07279880  \\\\\n",
       "\tSuccess.of.Surrogate.Endpoint &   0.85805421  &   0.349923281 &  1.29747967  \\\\\n",
       "\tResidual.Based\\_Gamma &   0.04792084  &   0.014596296 &  0.08887595  \\\\\n",
       "\tResidual.Based.Standardized\\_gamma &   0.05111001  &   0.017549290 &  0.09243230  \\\\\n",
       "\tSOS &   0.99999597  &  -1.172868981 &  0.99990059  \\\\\n",
       "\\end{tabular}\n"
      ],
      "text/markdown": [
       "\n",
       "| <!--/--> | Estimate | CI.Lower_Percentile | CI.Upper_Percentile |\n",
       "|---|---|---|---|\n",
       "| Indirect.Effect |   0.23371684  |   0.150695413 |  0.32212323   |\n",
       "| Indirect.Effect.Partially.Standardized |   0.17205624  |   0.111928936 |  0.23683471   |\n",
       "| Index.of.Mediation |   0.17907507  |   0.113895738 |  0.24765253   |\n",
       "| R2_4.5 |   0.03220365  |  -0.004550556 |  0.07948885   |\n",
       "| R2_4.6 |   0.02990992  |   0.012506215 |  0.05458876   |\n",
       "| R2_4.7 |   0.09074313  |   0.040914531 |  0.14864273   |\n",
       "| Ratio.of.Indirect.to.Total.Effect |   0.99788780  |   0.620246495 |  2.48200502   |\n",
       "| Ratio.of.Indirect.to.Direct.Effect | 472.44021424  | -48.654816804 | 48.07279880   |\n",
       "| Success.of.Surrogate.Endpoint |   0.85805421  |   0.349923281 |  1.29747967   |\n",
       "| Residual.Based_Gamma |   0.04792084  |   0.014596296 |  0.08887595   |\n",
       "| Residual.Based.Standardized_gamma |   0.05111001  |   0.017549290 |  0.09243230   |\n",
       "| SOS |   0.99999597  |  -1.172868981 |  0.99990059   |\n",
       "\n"
      ],
      "text/plain": [
       "                                       Estimate     CI.Lower_Percentile\n",
       "Indirect.Effect                          0.23371684   0.150695413      \n",
       "Indirect.Effect.Partially.Standardized   0.17205624   0.111928936      \n",
       "Index.of.Mediation                       0.17907507   0.113895738      \n",
       "R2_4.5                                   0.03220365  -0.004550556      \n",
       "R2_4.6                                   0.02990992   0.012506215      \n",
       "R2_4.7                                   0.09074313   0.040914531      \n",
       "Ratio.of.Indirect.to.Total.Effect        0.99788780   0.620246495      \n",
       "Ratio.of.Indirect.to.Direct.Effect     472.44021424 -48.654816804      \n",
       "Success.of.Surrogate.Endpoint            0.85805421   0.349923281      \n",
       "Residual.Based_Gamma                     0.04792084   0.014596296      \n",
       "Residual.Based.Standardized_gamma        0.05111001   0.017549290      \n",
       "SOS                                      0.99999597  -1.172868981      \n",
       "                                       CI.Upper_Percentile\n",
       "Indirect.Effect                         0.32212323        \n",
       "Indirect.Effect.Partially.Standardized  0.23683471        \n",
       "Index.of.Mediation                      0.24765253        \n",
       "R2_4.5                                  0.07948885        \n",
       "R2_4.6                                  0.05458876        \n",
       "R2_4.7                                  0.14864273        \n",
       "Ratio.of.Indirect.to.Total.Effect       2.48200502        \n",
       "Ratio.of.Indirect.to.Direct.Effect     48.07279880        \n",
       "Success.of.Surrogate.Endpoint           1.29747967        \n",
       "Residual.Based_Gamma                    0.08887595        \n",
       "Residual.Based.Standardized_gamma       0.09243230        \n",
       "SOS                                     0.99990059        "
      ]
     },
     "metadata": {},
     "output_type": "display_data"
    }
   ],
   "source": [
    "library(MBESS)\n",
    "mediation(corr_df$learning_composite, corr_df$inclusion_mean, corr_df$turnover_mean, conf.level = 0.95, bootstrap = T, B = 5000, which.boot=\"Percentile\")"
   ]
  },
  {
   "cell_type": "markdown",
   "metadata": {},
   "source": [
    "__This is the mediation for learn separate from learning__"
   ]
  },
  {
   "cell_type": "code",
   "execution_count": 6,
   "metadata": {},
   "outputs": [
    {
     "name": "stdout",
     "output_type": "stream",
     "text": [
      "[1] \"Bootstrap resampling has begun. This process may take a considerable amount of time if the number of replications is large, which is optimal for the bootstrap procedure.\"\n"
     ]
    },
    {
     "data": {
      "text/html": [
       "<table>\n",
       "<thead><tr><th></th><th scope=col>Estimate</th><th scope=col>CI.Lower_Percentile</th><th scope=col>CI.Upper_Percentile</th></tr></thead>\n",
       "<tbody>\n",
       "\t<tr><th scope=row>Indirect.Effect</th><td>0.17639385  </td><td>  0.11739570</td><td> 0.23776741 </td></tr>\n",
       "\t<tr><th scope=row>Indirect.Effect.Partially.Standardized</th><td>0.12985656  </td><td>  0.08752057</td><td> 0.17400243 </td></tr>\n",
       "\t<tr><th scope=row>Index.of.Mediation</th><td>0.20836216  </td><td>  0.13872814</td><td> 0.27928183 </td></tr>\n",
       "\t<tr><th scope=row>R2_4.5</th><td>0.07006734  </td><td>  0.02282369</td><td> 0.12694549 </td></tr>\n",
       "\t<tr><th scope=row>R2_4.6</th><td>0.04014067  </td><td>  0.01868592</td><td> 0.06855569 </td></tr>\n",
       "\t<tr><th scope=row>R2_4.7</th><td>0.12055383  </td><td>  0.06419317</td><td> 0.17929687 </td></tr>\n",
       "\t<tr><th scope=row>Ratio.of.Indirect.to.Total.Effect</th><td>0.76894504  </td><td>  0.50245158</td><td> 1.24480477 </td></tr>\n",
       "\t<tr><th scope=row>Ratio.of.Indirect.to.Direct.Effect</th><td>3.32797455  </td><td>-28.96833617</td><td>35.13702574 </td></tr>\n",
       "\t<tr><th scope=row>Success.of.Surrogate.Endpoint</th><td>1.06777874  </td><td>  0.69139945</td><td> 1.48892118 </td></tr>\n",
       "\t<tr><th scope=row>Residual.Based_Gamma</th><td>0.05433648  </td><td>  0.01922414</td><td> 0.10000089 </td></tr>\n",
       "\t<tr><th scope=row>Residual.Based.Standardized_gamma</th><td>0.05565144  </td><td>  0.02159057</td><td> 0.10091968 </td></tr>\n",
       "\t<tr><th scope=row>SOS</th><td>0.95426403  </td><td>  0.77157417</td><td> 0.99984975 </td></tr>\n",
       "</tbody>\n",
       "</table>\n"
      ],
      "text/latex": [
       "\\begin{tabular}{r|lll}\n",
       "  & Estimate & CI.Lower\\_Percentile & CI.Upper\\_Percentile\\\\\n",
       "\\hline\n",
       "\tIndirect.Effect & 0.17639385   &   0.11739570 &  0.23776741 \\\\\n",
       "\tIndirect.Effect.Partially.Standardized & 0.12985656   &   0.08752057 &  0.17400243 \\\\\n",
       "\tIndex.of.Mediation & 0.20836216   &   0.13872814 &  0.27928183 \\\\\n",
       "\tR2\\_4.5 & 0.07006734   &   0.02282369 &  0.12694549 \\\\\n",
       "\tR2\\_4.6 & 0.04014067   &   0.01868592 &  0.06855569 \\\\\n",
       "\tR2\\_4.7 & 0.12055383   &   0.06419317 &  0.17929687 \\\\\n",
       "\tRatio.of.Indirect.to.Total.Effect & 0.76894504   &   0.50245158 &  1.24480477 \\\\\n",
       "\tRatio.of.Indirect.to.Direct.Effect & 3.32797455   & -28.96833617 & 35.13702574 \\\\\n",
       "\tSuccess.of.Surrogate.Endpoint & 1.06777874   &   0.69139945 &  1.48892118 \\\\\n",
       "\tResidual.Based\\_Gamma & 0.05433648   &   0.01922414 &  0.10000089 \\\\\n",
       "\tResidual.Based.Standardized\\_gamma & 0.05565144   &   0.02159057 &  0.10091968 \\\\\n",
       "\tSOS & 0.95426403   &   0.77157417 &  0.99984975 \\\\\n",
       "\\end{tabular}\n"
      ],
      "text/markdown": [
       "\n",
       "| <!--/--> | Estimate | CI.Lower_Percentile | CI.Upper_Percentile |\n",
       "|---|---|---|---|\n",
       "| Indirect.Effect | 0.17639385   |   0.11739570 |  0.23776741  |\n",
       "| Indirect.Effect.Partially.Standardized | 0.12985656   |   0.08752057 |  0.17400243  |\n",
       "| Index.of.Mediation | 0.20836216   |   0.13872814 |  0.27928183  |\n",
       "| R2_4.5 | 0.07006734   |   0.02282369 |  0.12694549  |\n",
       "| R2_4.6 | 0.04014067   |   0.01868592 |  0.06855569  |\n",
       "| R2_4.7 | 0.12055383   |   0.06419317 |  0.17929687  |\n",
       "| Ratio.of.Indirect.to.Total.Effect | 0.76894504   |   0.50245158 |  1.24480477  |\n",
       "| Ratio.of.Indirect.to.Direct.Effect | 3.32797455   | -28.96833617 | 35.13702574  |\n",
       "| Success.of.Surrogate.Endpoint | 1.06777874   |   0.69139945 |  1.48892118  |\n",
       "| Residual.Based_Gamma | 0.05433648   |   0.01922414 |  0.10000089  |\n",
       "| Residual.Based.Standardized_gamma | 0.05565144   |   0.02159057 |  0.10091968  |\n",
       "| SOS | 0.95426403   |   0.77157417 |  0.99984975  |\n",
       "\n"
      ],
      "text/plain": [
       "                                       Estimate   CI.Lower_Percentile\n",
       "Indirect.Effect                        0.17639385   0.11739570       \n",
       "Indirect.Effect.Partially.Standardized 0.12985656   0.08752057       \n",
       "Index.of.Mediation                     0.20836216   0.13872814       \n",
       "R2_4.5                                 0.07006734   0.02282369       \n",
       "R2_4.6                                 0.04014067   0.01868592       \n",
       "R2_4.7                                 0.12055383   0.06419317       \n",
       "Ratio.of.Indirect.to.Total.Effect      0.76894504   0.50245158       \n",
       "Ratio.of.Indirect.to.Direct.Effect     3.32797455 -28.96833617       \n",
       "Success.of.Surrogate.Endpoint          1.06777874   0.69139945       \n",
       "Residual.Based_Gamma                   0.05433648   0.01922414       \n",
       "Residual.Based.Standardized_gamma      0.05565144   0.02159057       \n",
       "SOS                                    0.95426403   0.77157417       \n",
       "                                       CI.Upper_Percentile\n",
       "Indirect.Effect                         0.23776741        \n",
       "Indirect.Effect.Partially.Standardized  0.17400243        \n",
       "Index.of.Mediation                      0.27928183        \n",
       "R2_4.5                                  0.12694549        \n",
       "R2_4.6                                  0.06855569        \n",
       "R2_4.7                                  0.17929687        \n",
       "Ratio.of.Indirect.to.Total.Effect       1.24480477        \n",
       "Ratio.of.Indirect.to.Direct.Effect     35.13702574        \n",
       "Success.of.Surrogate.Endpoint           1.48892118        \n",
       "Residual.Based_Gamma                    0.10000089        \n",
       "Residual.Based.Standardized_gamma       0.10091968        \n",
       "SOS                                     0.99984975        "
      ]
     },
     "metadata": {},
     "output_type": "display_data"
    }
   ],
   "source": [
    "mediation(corr_df$learn_composite, corr_df$inclusion_mean, corr_df$turnover_mean, conf.level = 0.95, bootstrap = T, B = 5000, which.boot=\"Percentile\")"
   ]
  },
  {
   "cell_type": "markdown",
   "metadata": {},
   "source": [
    "## Run regression for learn/learning separated"
   ]
  },
  {
   "cell_type": "markdown",
   "metadata": {},
   "source": [
    "__This is regressing turnover on learning and learn__\n",
    "- same results as in Python"
   ]
  },
  {
   "cell_type": "code",
   "execution_count": 31,
   "metadata": {},
   "outputs": [
    {
     "data": {
      "text/plain": [
       "\n",
       "Call:\n",
       "lm(formula = turnover_mean ~ learning_composite + learn_composite, \n",
       "    data = corr_df)\n",
       "\n",
       "Residuals:\n",
       "     Min       1Q   Median       3Q      Max \n",
       "-2.52175 -1.11297  0.07423  1.09067  2.72693 \n",
       "\n",
       "Coefficients:\n",
       "                   Estimate Std. Error t value Pr(>|t|)    \n",
       "(Intercept)         0.89944    0.25088   3.585 0.000395 ***\n",
       "learning_composite  0.15126    0.07611   1.987 0.047818 *  \n",
       "learn_composite     0.20345    0.04937   4.121 4.93e-05 ***\n",
       "---\n",
       "Signif. codes:  0 '***' 0.001 '**' 0.01 '*' 0.05 '.' 0.1 ' ' 1\n",
       "\n",
       "Residual standard error: 1.303 on 289 degrees of freedom\n",
       "Multiple R-squared:  0.08592,\tAdjusted R-squared:  0.07959 \n",
       "F-statistic: 13.58 on 2 and 289 DF,  p-value: 2.303e-06\n"
      ]
     },
     "metadata": {},
     "output_type": "display_data"
    }
   ],
   "source": [
    "summary(lm(turnover_mean ~ learning_composite + learn_composite, data = corr_df))"
   ]
  },
  {
   "cell_type": "markdown",
   "metadata": {},
   "source": [
    "__This is regressing inclusion on learn and learning separated__\n",
    "- same results as in Python"
   ]
  },
  {
   "cell_type": "code",
   "execution_count": 33,
   "metadata": {},
   "outputs": [
    {
     "data": {
      "text/plain": [
       "\n",
       "Call:\n",
       "lm(formula = inclusion_mean ~ learning_composite + learn_composite, \n",
       "    data = corr_df)\n",
       "\n",
       "Residuals:\n",
       "    Min      1Q  Median      3Q     Max \n",
       "-3.0736 -0.4915  0.1608  0.5787  1.8401 \n",
       "\n",
       "Coefficients:\n",
       "                   Estimate Std. Error t value Pr(>|t|)    \n",
       "(Intercept)         2.56748    0.15816  16.233  < 2e-16 ***\n",
       "learning_composite  0.19931    0.04798   4.154 4.31e-05 ***\n",
       "learn_composite     0.18065    0.03112   5.804 1.70e-08 ***\n",
       "---\n",
       "Signif. codes:  0 '***' 0.001 '**' 0.01 '*' 0.05 '.' 0.1 ' ' 1\n",
       "\n",
       "Residual standard error: 0.8216 on 289 degrees of freedom\n",
       "Multiple R-squared:  0.1916,\tAdjusted R-squared:  0.186 \n",
       "F-statistic: 34.24 on 2 and 289 DF,  p-value: 4.515e-14\n"
      ]
     },
     "metadata": {},
     "output_type": "display_data"
    }
   ],
   "source": [
    "summary(lm(inclusion_mean ~ learning_composite + learn_composite, data = corr_df))"
   ]
  },
  {
   "cell_type": "markdown",
   "metadata": {},
   "source": [
    "## Begin correlation analysis for data with learn/learning separated"
   ]
  },
  {
   "cell_type": "code",
   "execution_count": 3,
   "metadata": {},
   "outputs": [
    {
     "name": "stdout",
     "output_type": "stream",
     "text": [
      "'data.frame':\t290 obs. of  7 variables:\n",
      " $ X                 : int  0 1 2 3 4 5 6 7 8 9 ...\n",
      " $ turnover_mean     : num  4 0 3 3 3 ...\n",
      " $ inclusion_mean    : num  3.88 1.81 4.5 4 4.5 ...\n",
      " $ micro_count       : num  14 6 14 14 14 14 13 14 12 14 ...\n",
      " $ learning_composite: num  1.75 2.75 4 4 3 ...\n",
      " $ learn_composite   : num  6 2 5 4 6 6 6 5 3 4 ...\n",
      " $ Gender            : num  1 0 0 0 1 0 1 0 0 1 ...\n"
     ]
    }
   ],
   "source": [
    "str(corr_df)"
   ]
  },
  {
   "cell_type": "code",
   "execution_count": 4,
   "metadata": {},
   "outputs": [],
   "source": [
    "corr_df <- subset(corr_df, select = c(\"turnover_mean\", \"inclusion_mean\", \"micro_count\", \"learning_composite\", \"learn_composite\", \"Gender\"))"
   ]
  },
  {
   "cell_type": "code",
   "execution_count": 5,
   "metadata": {},
   "outputs": [
    {
     "name": "stdout",
     "output_type": "stream",
     "text": [
      "'data.frame':\t290 obs. of  6 variables:\n",
      " $ turnover_mean     : num  4 0 3 3 3 ...\n",
      " $ inclusion_mean    : num  3.88 1.81 4.5 4 4.5 ...\n",
      " $ micro_count       : num  14 6 14 14 14 14 13 14 12 14 ...\n",
      " $ learning_composite: num  1.75 2.75 4 4 3 ...\n",
      " $ learn_composite   : num  6 2 5 4 6 6 6 5 3 4 ...\n",
      " $ Gender            : num  1 0 0 0 1 0 1 0 0 1 ...\n"
     ]
    }
   ],
   "source": [
    "str(corr_df)"
   ]
  },
  {
   "cell_type": "code",
   "execution_count": 8,
   "metadata": {},
   "outputs": [
    {
     "data": {
      "text/html": [
       "<table>\n",
       "<thead><tr><th></th><th scope=col>turnover_mean</th><th scope=col>inclusion_mean</th><th scope=col>micro_count</th><th scope=col>learning_composite</th><th scope=col>learn_composite</th><th scope=col>Gender</th></tr></thead>\n",
       "<tbody>\n",
       "\t<tr><th scope=row>turnover_mean</th><td> 1.0000000 </td><td> 0.5717662 </td><td> 0.28444747</td><td> 0.17378231</td><td>0.26482791 </td><td>-0.10516761</td></tr>\n",
       "\t<tr><th scope=row>inclusion_mean</th><td> 0.5717662 </td><td> 1.0000000 </td><td> 0.21003753</td><td> 0.30632084</td><td>0.37016790 </td><td>-0.10806763</td></tr>\n",
       "\t<tr><th scope=row>micro_count</th><td> 0.2844475 </td><td> 0.2100375 </td><td> 1.00000000</td><td>-0.04382783</td><td>0.27470330 </td><td>-0.08012611</td></tr>\n",
       "\t<tr><th scope=row>learning_composite</th><td> 0.1737823 </td><td> 0.3063208 </td><td>-0.04382783</td><td> 1.00000000</td><td>0.25879142 </td><td>-0.01446975</td></tr>\n",
       "\t<tr><th scope=row>learn_composite</th><td> 0.2648279 </td><td> 0.3701679 </td><td> 0.27470330</td><td> 0.25879142</td><td>1.00000000 </td><td> 0.05318355</td></tr>\n",
       "\t<tr><th scope=row>Gender</th><td>-0.1051676 </td><td>-0.1080676 </td><td>-0.08012611</td><td>-0.01446975</td><td>0.05318355 </td><td> 1.00000000</td></tr>\n",
       "</tbody>\n",
       "</table>\n"
      ],
      "text/latex": [
       "\\begin{tabular}{r|llllll}\n",
       "  & turnover\\_mean & inclusion\\_mean & micro\\_count & learning\\_composite & learn\\_composite & Gender\\\\\n",
       "\\hline\n",
       "\tturnover\\_mean &  1.0000000  &  0.5717662  &  0.28444747 &  0.17378231 & 0.26482791  & -0.10516761\\\\\n",
       "\tinclusion\\_mean &  0.5717662  &  1.0000000  &  0.21003753 &  0.30632084 & 0.37016790  & -0.10806763\\\\\n",
       "\tmicro\\_count &  0.2844475  &  0.2100375  &  1.00000000 & -0.04382783 & 0.27470330  & -0.08012611\\\\\n",
       "\tlearning\\_composite &  0.1737823  &  0.3063208  & -0.04382783 &  1.00000000 & 0.25879142  & -0.01446975\\\\\n",
       "\tlearn\\_composite &  0.2648279  &  0.3701679  &  0.27470330 &  0.25879142 & 1.00000000  &  0.05318355\\\\\n",
       "\tGender & -0.1051676  & -0.1080676  & -0.08012611 & -0.01446975 & 0.05318355  &  1.00000000\\\\\n",
       "\\end{tabular}\n"
      ],
      "text/markdown": [
       "\n",
       "| <!--/--> | turnover_mean | inclusion_mean | micro_count | learning_composite | learn_composite | Gender |\n",
       "|---|---|---|---|---|---|---|\n",
       "| turnover_mean |  1.0000000  |  0.5717662  |  0.28444747 |  0.17378231 | 0.26482791  | -0.10516761 |\n",
       "| inclusion_mean |  0.5717662  |  1.0000000  |  0.21003753 |  0.30632084 | 0.37016790  | -0.10806763 |\n",
       "| micro_count |  0.2844475  |  0.2100375  |  1.00000000 | -0.04382783 | 0.27470330  | -0.08012611 |\n",
       "| learning_composite |  0.1737823  |  0.3063208  | -0.04382783 |  1.00000000 | 0.25879142  | -0.01446975 |\n",
       "| learn_composite |  0.2648279  |  0.3701679  |  0.27470330 |  0.25879142 | 1.00000000  |  0.05318355 |\n",
       "| Gender | -0.1051676  | -0.1080676  | -0.08012611 | -0.01446975 | 0.05318355  |  1.00000000 |\n",
       "\n"
      ],
      "text/plain": [
       "                   turnover_mean inclusion_mean micro_count learning_composite\n",
       "turnover_mean       1.0000000     0.5717662      0.28444747  0.17378231       \n",
       "inclusion_mean      0.5717662     1.0000000      0.21003753  0.30632084       \n",
       "micro_count         0.2844475     0.2100375      1.00000000 -0.04382783       \n",
       "learning_composite  0.1737823     0.3063208     -0.04382783  1.00000000       \n",
       "learn_composite     0.2648279     0.3701679      0.27470330  0.25879142       \n",
       "Gender             -0.1051676    -0.1080676     -0.08012611 -0.01446975       \n",
       "                   learn_composite Gender     \n",
       "turnover_mean      0.26482791      -0.10516761\n",
       "inclusion_mean     0.37016790      -0.10806763\n",
       "micro_count        0.27470330      -0.08012611\n",
       "learning_composite 0.25879142      -0.01446975\n",
       "learn_composite    1.00000000       0.05318355\n",
       "Gender             0.05318355       1.00000000"
      ]
     },
     "metadata": {},
     "output_type": "display_data"
    }
   ],
   "source": [
    "cor(corr_df)"
   ]
  },
  {
   "cell_type": "markdown",
   "metadata": {},
   "source": [
    "## Send to apa table"
   ]
  },
  {
   "cell_type": "code",
   "execution_count": 11,
   "metadata": {},
   "outputs": [
    {
     "data": {
      "text/plain": [
       "\n",
       "\n",
       "Table 1 \n",
       "\n",
       "Means, standard deviations, and correlations with confidence intervals\n",
       " \n",
       "\n",
       "  Variable              M     SD   1           2           3          \n",
       "  1. turnover_mean      2.09  1.36                                    \n",
       "                                                                      \n",
       "  2. inclusion_mean     3.80  0.90 .57**                              \n",
       "                                   [.49, .64]                         \n",
       "                                                                      \n",
       "  3. micro_count        10.87 3.53 .28**       .21**                  \n",
       "                                   [.18, .39]  [.10, .32]             \n",
       "                                                                      \n",
       "  4. learning_composite 2.65  1.04 .17**       .31**       -.04       \n",
       "                                   [.06, .28]  [.20, .41]  [-.16, .07]\n",
       "                                                                      \n",
       "  5. learn_composite    3.89  1.60 .26**       .37**       .27**      \n",
       "                                   [.15, .37]  [.27, .47]  [.16, .38] \n",
       "                                                                      \n",
       "  6. Gender             0.52  0.53 -.11        -.11        -.08       \n",
       "                                   [-.22, .01] [-.22, .01] [-.19, .04]\n",
       "                                                                      \n",
       "  4           5          \n",
       "                         \n",
       "                         \n",
       "                         \n",
       "                         \n",
       "                         \n",
       "                         \n",
       "                         \n",
       "                         \n",
       "                         \n",
       "                         \n",
       "                         \n",
       "  .26**                  \n",
       "  [.15, .36]             \n",
       "                         \n",
       "  -.01        .05        \n",
       "  [-.13, .10] [-.06, .17]\n",
       "                         \n",
       "\n",
       "Note. M and SD are used to represent mean and standard deviation, respectively.\n",
       "Values in square brackets indicate the 95% confidence interval.\n",
       "The confidence interval is a plausible range of population correlations \n",
       "that could have caused the sample correlation (Cumming, 2014).\n",
       "* indicates p < .05. ** indicates p < .01.\n",
       " \n"
      ]
     },
     "metadata": {},
     "output_type": "display_data"
    }
   ],
   "source": [
    "library(apaTables)\n",
    "apa.cor.table(corr_df, filename = \"AOM_correlation_matrix.doc\", table.number = 1)"
   ]
  }
 ],
 "metadata": {
  "kernelspec": {
   "display_name": "R",
   "language": "R",
   "name": "ir"
  },
  "language_info": {
   "name": ""
  }
 },
 "nbformat": 4,
 "nbformat_minor": 4
}
